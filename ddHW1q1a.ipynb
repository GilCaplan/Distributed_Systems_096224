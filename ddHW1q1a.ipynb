{
  "nbformat": 4,
  "nbformat_minor": 0,
  "metadata": {
    "colab": {
      "provenance": []
    },
    "kernelspec": {
      "name": "python3",
      "display_name": "Python 3"
    },
    "language_info": {
      "name": "python"
    }
  },
  "cells": [
    {
      "cell_type": "code",
      "execution_count": 4,
      "metadata": {
        "colab": {
          "base_uri": "https://localhost:8080/"
        },
        "id": "mCNg__Ph3WpW",
        "outputId": "b2873716-a12f-4a12-fab9-802544cd57a4"
      },
      "outputs": [
        {
          "output_type": "stream",
          "name": "stdout",
          "text": [
            "Collecting mrjob\n",
            "  Downloading mrjob-0.7.4-py2.py3-none-any.whl (439 kB)\n",
            "\u001b[2K     \u001b[90m━━━━━━━━━━━━━━━━━━━━━━━━━━━━━━━━━━━━━━━━\u001b[0m \u001b[32m439.6/439.6 kB\u001b[0m \u001b[31m6.6 MB/s\u001b[0m eta \u001b[36m0:00:00\u001b[0m\n",
            "\u001b[?25hRequirement already satisfied: PyYAML>=3.10 in /usr/local/lib/python3.10/dist-packages (from mrjob) (6.0.1)\n",
            "Installing collected packages: mrjob\n",
            "Successfully installed mrjob-0.7.4\n"
          ]
        }
      ],
      "source": [
        "!pip install mrjob"
      ]
    },
    {
      "cell_type": "code",
      "source": [
        "%%file mr_word_count.py\n",
        "\n",
        "from mrjob.job import MRJob\n",
        "from mrjob.step import MRStep\n",
        "import re\n",
        "\n",
        "def split_properley (line):\n",
        "\n",
        "    title = None\n",
        "    genres = None\n",
        "    indices = [0]\n",
        "\n",
        "    if \"\\\"\" in line: # Means we have multiple entries (commas) in at least one field\n",
        "\n",
        "        # Find the indices of all apostrophes in this line:\n",
        "        indices = [index for index in range(len(line)) if line.startswith('\\\"', index)]\n",
        "\n",
        "        # Only 'title' contains commas\n",
        "        if indices[0] == 0 and len(indices) == 2: # Hint: Does this fit our current schema?\n",
        "            title = line[indices[0]+1 : indices[1]]\n",
        "\n",
        "        elif len(indices)==2: # Only 'genre' contain commas\n",
        "            genres = line[ indices[0]+1 : indices[1] ]\n",
        "\n",
        "        else: # Both contain commas\n",
        "            title = line[indices[0]+1 : indices[1]]\n",
        "            genres = line[ indices[2]+1 : indices[3] ]\n",
        "\n",
        "    # Take the rest of the line after the last apostrophe:\n",
        "    line_after = line[indices[-1]:].split(',')\n",
        "\n",
        "    # Extract the remaining fields:\n",
        "    date = line_after[-3]\n",
        "    air_time = int(line_after[-2])\n",
        "\n",
        "    if genres == None: # We only have one genre\n",
        "        genres = line_after[-4]\n",
        "\n",
        "    if title == None:\n",
        "        title = line.split(',')[0] # Hint: Does this fit our current schema?\n",
        "\n",
        "    genres = genres.split(',')\n",
        "\n",
        "    return title, genres, air_time, date\n",
        "\n",
        "data = sc.textFile('tiny_50k_daily_prog_data.csv.csv')\n",
        "header = data.first()\n",
        "\n",
        "class MRWordFrequencyCount(MRJob):\n",
        "    def mapper(self, _, line):\n",
        "        title, genres, air_time, date = split_properley (line)\n",
        "        if line != header:\n",
        "          if int(70000 <= air_time < 90000):\n",
        "            for l in ['j','q','z']:\n",
        "              if l in title.lower():\n",
        "                for k in ['Sitcom', 'Talk', 'Politics', 'Spanish', 'Community', 'Martial arts']:\n",
        "                  if k in genres:\n",
        "                    yield ((title, date, genres), 1)\n",
        "\n",
        "    def combiner(self, word, counts):\n",
        "        # optimization: sum the words we've seen so far\n",
        "        yield (word, sum(counts))\n",
        "\n",
        "    def reducer(self, word, counts):\n",
        "        # send all (word, num_occurrences) pairs to the same reducer.\n",
        "        # num_occurrences is so we can easily use Python's max() function.\n",
        "        yield word, sum(counts)\n",
        "\n",
        "\n",
        "if __name__ == '__main__':\n",
        "    MRWordFrequencyCount.run()"
      ],
      "metadata": {
        "colab": {
          "base_uri": "https://localhost:8080/"
        },
        "id": "Z1_-I1mx5Ue8",
        "outputId": "5e552b0b-384a-4c60-9a51-bcaa2acac0a2"
      },
      "execution_count": 13,
      "outputs": [
        {
          "output_type": "stream",
          "name": "stdout",
          "text": [
            "Overwriting mr_word_count.py\n"
          ]
        }
      ]
    },
    {
      "cell_type": "code",
      "source": [
        "!python mr_word_count.py tiny_50k_daily_prog_data.csv.csv -q"
      ],
      "metadata": {
        "colab": {
          "base_uri": "https://localhost:8080/"
        },
        "id": "fAf2G-Ub_wwD",
        "outputId": "a9f38c2a-cee2-480b-fd0c-8969353193b1"
      },
      "execution_count": 14,
      "outputs": [
        {
          "output_type": "stream",
          "name": "stdout",
          "text": [
            "Traceback (most recent call last):\n",
            "  File \"/content/mr_word_count.py\", line 45, in <module>\n",
            "    data = sc.textFile('tiny_50k_daily_prog_data.csv.csv')\n",
            "NameError: name 'sc' is not defined\n"
          ]
        }
      ]
    },
    {
      "cell_type": "code",
      "source": [],
      "metadata": {
        "id": "M8qOi6w2RhBI"
      },
      "execution_count": null,
      "outputs": []
    }
  ]
}