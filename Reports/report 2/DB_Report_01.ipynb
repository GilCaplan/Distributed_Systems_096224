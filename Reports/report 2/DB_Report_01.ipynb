{
 "metadata": {
  "kernelspec": {
   "name": "python",
   "display_name": "Python (Pyodide)",
   "language": "python"
  },
  "language_info": {
   "codemirror_mode": {
    "name": "python",
    "version": 3
   },
   "file_extension": ".py",
   "mimetype": "text/x-python",
   "name": "python",
   "nbconvert_exporter": "python",
   "pygments_lexer": "ipython3",
   "version": "3.8"
  }
 },
 "nbformat_minor": 4,
 "nbformat": 4,
 "cells": [
  {
   "cell_type": "code",
   "source": [
    "import json\n",
    "import re\n",
    "\n",
    "keys = set()  # TSV unique key set for headers (column names)\n",
    "\n",
    "\n",
    "def flatten_json(nested_json, parent_key='', sep='.'):\n",
    "    \"\"\"\n",
    "    Flattening the Pokémon's (from Json set)\n",
    "    \"\"\"\n",
    "    items = []\n",
    "    for k, v in nested_json.items():\n",
    "        new_key = f\"{parent_key}{sep}{k}\" if parent_key else k\n",
    "        if isinstance(v, dict):\n",
    "            items.extend(next(flatten_json(v, new_key, sep=sep)).items())\n",
    "            keys.add(new_key)\n",
    "        elif isinstance(v, list):\n",
    "            for i, item in enumerate(v):\n",
    "                if isinstance(item, dict):\n",
    "                    items.extend(next(flatten_json(item, f\"{new_key}.{i}\", sep=sep)).items())\n",
    "                    keys.add(f\"{new_key}.{i}\")\n",
    "                else:\n",
    "                    items.append((f\"{new_key}.{i}\", item))\n",
    "                    keys.add(f\"{new_key}.{i}\")\n",
    "        else:\n",
    "            if isinstance(v, str):\n",
    "                match = re.search(r'\\((.*?)\\)', v)\n",
    "                if match:\n",
    "                    v = match.group(1)\n",
    "            items.append((new_key, v))\n",
    "            keys.add(new_key)\n",
    "    yield dict(items)\n",
    "\n",
    "\n",
    "# open json file to get data and then flatten the Pokemon's\n",
    "with open('pokedex.json') as json_file:\n",
    "    data = json.load(json_file)\n",
    "    flattened_data = sorted([next(flatten_json(pokemon)) for pokemon in data], key=lambda x: x.get(\"name\", \"\"))\n",
    "\n",
    "\n",
    "# Filter out empty columns from each dictionary\n",
    "flattened_data_filtered = [{key: value for key, value in pokemon.items() if key in keys} for pokemon in flattened_data]\n",
    "\n",
    "keys = {key for key in keys if any(pokemon.get(key) for pokemon in flattened_data)}\n",
    "\n",
    "sorted_columns = sorted(keys, key=lambda x: (x != \"name\", x))\n",
    "\n",
    "# Write to TSV file\n",
    "with open('give_in/output_pokemons.tsv', 'w') as tsv_file:\n",
    "    # Find the maximum width for each column\n",
    "    max_widths = {header: max(len(header)+5, max(len(str(pokemon.get(header, '')))+5 for pokemon in flattened_data_filtered)) for header in sorted_columns}\n",
    "\n",
    "    # Write headers\n",
    "    header_row = '\\t'.join('{:<{width}}'.format(header, width=max_widths[header]) for header in sorted_columns) + '\\n'\n",
    "    tsv_file.write(header_row)\n",
    "\n",
    "    # Write data rows to TSV file\n",
    "    for pokemon in flattened_data_filtered:\n",
    "        row = '\\t'.join('{:<{width}}'.format(str(pokemon.get(header, '')), width=max_widths[header]) for header in sorted_columns) + '\\n'\n",
    "        tsv_file.write(row)\n",
    "\n",
    "print(\"Data processed, done\")\n"
   ],
   "metadata": {
    "trusted": true,
    "is_executing": true
   },
   "outputs": [],
   "execution_count": null
  }
 ]
}
