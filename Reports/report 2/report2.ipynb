{
  "nbformat": 4,
  "nbformat_minor": 0,
  "metadata": {
    "colab": {
      "provenance": []
    },
    "kernelspec": {
      "name": "python3",
      "display_name": "Python 3"
    },
    "language_info": {
      "name": "python"
    }
  },
  "cells": [
    {
      "cell_type": "code",
      "source": [
        "%%file report2.py\n",
        "from mrjob.job import MRJob\n",
        "from mrjob.step import MRStep\n",
        "import re\n",
        "WORD_RE = re.compile(r\"[\\w']+\")\n",
        "prime = None\n",
        "class MRMostUsedWord(MRJob):\n",
        "    def steps(self): # Overwrite the steps function to run a multi-step job\n",
        "        return [\n",
        "            MRStep(mapper=self.mapper_get_most_viewed_prime_program,\n",
        "                   reducer=self.reducer_count_prime_viewers),\n",
        "            MRStep(reducer=self.reducer_find_max_word),\n",
        "        ]\n",
        "\n",
        "    def mapper_get_most_viewed_prime_program(self, _, line):\n",
        "        # yield each word in the line\n",
        "        item = [word for word in WORD_RE.findall(line)]\n",
        "        try:\n",
        "          if 200000 <= int(item[3]) < 230000 and int(item[4])%2==0:\n",
        "             yield (item[5], 1)\n",
        "        except:\n",
        "          pass\n",
        "\n",
        "    def reducer_count_prime_viewers(self, word, counts):\n",
        "        # send all (num_occurrences, word) pairs to the same reducer.\n",
        "        # num_occurrences is so we can easily use Python's max() function.\n",
        "        yield None, (sum(counts), word)\n",
        "\n",
        "    # discard the key; it is just None\n",
        "    def reducer_find_max_word(self, _, word_count_pairs):\n",
        "        # each item of word_count_pairs is (count, word),\n",
        "        # so yielding one results in key=counts, value=word\n",
        "        # prime = max(word_count_pairs)\n",
        "        yield max(word_count_pairs)\n",
        "\n",
        "\n",
        "\n",
        "if __name__ == '__main__':\n",
        "    MRMostUsedWord.run()\n"
      ],
      "metadata": {
        "colab": {
          "base_uri": "https://localhost:8080/"
        },
        "id": "5Ze3OsfvS4M7",
        "outputId": "2f30519a-5ce1-48f2-a17a-18e9ca6995ad"
      },
      "execution_count": null,
      "outputs": [
        {
          "output_type": "stream",
          "name": "stdout",
          "text": [
            "Writing report2.py\n"
          ]
        }
      ]
    },
    {
      "cell_type": "code",
      "source": [
        "! python report2.py 10k_view_data.csv"
      ],
      "metadata": {
        "colab": {
          "base_uri": "https://localhost:8080/"
        },
        "id": "YEIdUzmpTnG3",
        "outputId": "33c001bc-369d-45aa-ea28-63da3e400e5c"
      },
      "execution_count": 6,
      "outputs": [
        {
          "output_type": "stream",
          "name": "stdout",
          "text": [
            "No configs found; falling back on auto-configuration\n",
            "No configs specified for inline runner\n",
            "Creating temp directory /tmp/report2.root.20240620.202408.294438\n",
            "Running step 1 of 2...\n",
            "Running step 2 of 2...\n",
            "job output is in /tmp/report2.root.20240620.202408.294438/output\n",
            "Streaming final output from /tmp/report2.root.20240620.202408.294438/output...\n",
            "181\t\"SP003189730000\"\n",
            "Removing temp directory /tmp/report2.root.20240620.202408.294438...\n"
          ]
        }
      ]
    }
  ]
}