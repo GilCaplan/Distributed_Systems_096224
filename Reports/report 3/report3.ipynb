{
  "nbformat": 4,
  "nbformat_minor": 0,
  "metadata": {
    "colab": {
      "provenance": []
    },
    "kernelspec": {
      "name": "python3",
      "display_name": "Python 3"
    },
    "language_info": {
      "name": "python"
    }
  },
  "cells": [
    {
      "cell_type": "code",
      "execution_count": 1,
      "metadata": {
        "colab": {
          "base_uri": "https://localhost:8080/"
        },
        "id": "znmfKgvggcRY",
        "outputId": "612714fd-c6b2-46a8-d19c-0a49ca00b376"
      },
      "outputs": [
        {
          "output_type": "stream",
          "name": "stdout",
          "text": [
            "update-alternatives: using /usr/lib/jvm/java-8-openjdk-amd64/jre/bin/java to provide /usr/bin/java (java) in manual mode\n",
            "openjdk version \"1.8.0_412\"\n",
            "OpenJDK Runtime Environment (build 1.8.0_412-8u412-ga-1~22.04.1-b08)\n",
            "OpenJDK 64-Bit Server VM (build 25.412-b08, mixed mode)\n",
            "Collecting pyspark==3.4\n",
            "  Downloading pyspark-3.4.0.tar.gz (310.8 MB)\n",
            "\u001b[2K     \u001b[90m━━━━━━━━━━━━━━━━━━━━━━━━━━━━━━━━━━━━━━━━\u001b[0m \u001b[32m310.8/310.8 MB\u001b[0m \u001b[31m3.4 MB/s\u001b[0m eta \u001b[36m0:00:00\u001b[0m\n",
            "\u001b[?25h  Preparing metadata (setup.py) ... \u001b[?25l\u001b[?25hdone\n",
            "Collecting py4j==0.10.9.7 (from pyspark==3.4)\n",
            "  Downloading py4j-0.10.9.7-py2.py3-none-any.whl (200 kB)\n",
            "\u001b[2K     \u001b[90m━━━━━━━━━━━━━━━━━━━━━━━━━━━━━━━━━━━━━━━━\u001b[0m \u001b[32m200.5/200.5 kB\u001b[0m \u001b[31m25.6 MB/s\u001b[0m eta \u001b[36m0:00:00\u001b[0m\n",
            "\u001b[?25hBuilding wheels for collected packages: pyspark\n",
            "  Building wheel for pyspark (setup.py) ... \u001b[?25l\u001b[?25hdone\n",
            "  Created wheel for pyspark: filename=pyspark-3.4.0-py2.py3-none-any.whl size=311317122 sha256=226db525b3270bc707540597013df63d42e6dee81d865f44f0b71fee0baefb38\n",
            "  Stored in directory: /root/.cache/pip/wheels/7b/1b/4b/3363a1d04368e7ff0d408e57ff57966fcdf00583774e761327\n",
            "Successfully built pyspark\n",
            "Installing collected packages: py4j, pyspark\n",
            "  Attempting uninstall: py4j\n",
            "    Found existing installation: py4j 0.10.9.7\n",
            "    Uninstalling py4j-0.10.9.7:\n",
            "      Successfully uninstalled py4j-0.10.9.7\n",
            "Successfully installed py4j-0.10.9.7 pyspark-3.4.0\n",
            "Collecting findspark\n",
            "  Downloading findspark-2.0.1-py2.py3-none-any.whl (4.4 kB)\n",
            "Installing collected packages: findspark\n",
            "Successfully installed findspark-2.0.1\n"
          ]
        }
      ],
      "source": [
        "# Install PySpark on the Colab machine - code in \"חומר עזר קולאב\"\n",
        "# Cell 1\n",
        "!apt-get install openjdk-8-jdk-headless -qq > /dev/null\n",
        "import os\n",
        "os.environ[\"JAVA_HOME\"] = \"/usr/lib/jvm/java-8-openjdk-amd64\"\n",
        "!update-alternatives --set java /usr/lib/jvm/java-8-openjdk-amd64/jre/bin/java\n",
        "!java -version\n",
        "# Cell 2\n",
        "!pip install --force-reinstall pyspark==3.4\n",
        "!pip install findspark"
      ]
    },
    {
      "cell_type": "code",
      "source": [
        "import pyspark\n",
        "from pyspark.sql import SparkSession\n",
        "from pyspark.mllib.random import RandomRDDs\n",
        "from pyspark.sql.types import*\n",
        "import os\n",
        "import re\n"
      ],
      "metadata": {
        "id": "45esFP0yhEwi"
      },
      "execution_count": null,
      "outputs": []
    },
    {
      "cell_type": "code",
      "source": [
        "# Before getting/creating the Session, we can try to modify parameters.\n",
        "spark = SparkSession.builder.appName('Spark - Lab 3')\\\n",
        "    .getOrCreate()\n",
        "sc = spark.sparkContext\n",
        "# keep only important logs\n",
        "spark.sparkContext.setLogLevel(\"ERROR\")"
      ],
      "metadata": {
        "id": "Kvj-tqn_hIPe"
      },
      "execution_count": 3,
      "outputs": []
    },
    {
      "cell_type": "code",
      "source": [
        "spark.conf.set(\"spark.sql.repl.eagerEval.enabled\", True)"
      ],
      "metadata": {
        "id": "OV2dXS6uhQ3k"
      },
      "execution_count": 4,
      "outputs": []
    },
    {
      "cell_type": "code",
      "source": [
        "spark"
      ],
      "metadata": {
        "colab": {
          "base_uri": "https://localhost:8080/",
          "height": 219
        },
        "id": "sbL_gefghRs-",
        "outputId": "b2f1ba02-f24f-4dbf-898f-c6a718175b56"
      },
      "execution_count": 5,
      "outputs": [
        {
          "output_type": "execute_result",
          "data": {
            "text/plain": [
              "<pyspark.sql.session.SparkSession at 0x7b33d158b940>"
            ],
            "text/html": [
              "\n",
              "            <div>\n",
              "                <p><b>SparkSession - in-memory</b></p>\n",
              "                \n",
              "        <div>\n",
              "            <p><b>SparkContext</b></p>\n",
              "\n",
              "            <p><a href=\"http://e185f4326c77:4040\">Spark UI</a></p>\n",
              "\n",
              "            <dl>\n",
              "              <dt>Version</dt>\n",
              "                <dd><code>v3.4.0</code></dd>\n",
              "              <dt>Master</dt>\n",
              "                <dd><code>local[*]</code></dd>\n",
              "              <dt>AppName</dt>\n",
              "                <dd><code>Spark - Lab 3</code></dd>\n",
              "            </dl>\n",
              "        </div>\n",
              "        \n",
              "            </div>\n",
              "        "
            ]
          },
          "metadata": {},
          "execution_count": 5
        }
      ]
    },
    {
      "cell_type": "code",
      "source": [
        "with open(\"view_data_lab3.csv\", 'r') as file:\n",
        "    lines = file.readlines()\n",
        "\n",
        "header = lines[0].strip().split('\\t')\n",
        "rows = [line.strip().split(',') for line in lines[1:]]\n",
        "items = sc.parallelize(rows) \\\n",
        "          .filter(lambda item: 200000 <= int(item[0]) < 230000) \\\n",
        "          .map(lambda item: ((item[3], item[4]), 1)) \\\n",
        "          .reduceByKey(lambda a, b: a + b) \\\n",
        "          .map(lambda x: (x[0][0], (x[1], 1))) \\\n",
        "          .reduceByKey(lambda a, b: (a[0] + b[0], a[1] + b[1])) \\\n",
        "          .mapValues(lambda x: x[0] / x[1]) \\\n",
        "          .map(lambda x: (x[1], x)) \\\n",
        "          .sortByKey(False).map(lambda x: x[1]) \\\n",
        "\n",
        "for i, j in items.take(5):\n",
        "  print(i, j)"
      ],
      "metadata": {
        "colab": {
          "base_uri": "https://localhost:8080/"
        },
        "id": "ARyzlpJ8hVOO",
        "outputId": "225047cc-8aa1-4223-b1f1-598b4c44a134"
      },
      "execution_count": 47,
      "outputs": [
        {
          "output_type": "stream",
          "name": "stdout",
          "text": [
            "7.5E+14 64.0\n",
            "7.46E+14 8.0\n",
            "7.503E+14 7.166666666666667\n",
            "8.00001E+11 5.6\n",
            "8.4843E+14 5.4\n"
          ]
        }
      ]
    }
  ]
}