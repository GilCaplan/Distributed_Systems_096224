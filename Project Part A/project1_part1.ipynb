{
 "cells": [
  {
   "cell_type": "code",
   "execution_count": 0,
   "metadata": {
    "application/vnd.databricks.v1+cell": {
     "cellMetadata": {
      "byteLimit": 2048000,
      "rowLimit": 10000
     },
     "inputWidgets": {},
     "nuid": "b3e27f9b-fa2a-45a7-817c-510f073e556f",
     "showTitle": false,
     "title": ""
    }
   },
   "outputs": [],
   "source": [
    "from pyspark.sql.types import *\n",
    "import pyspark.sql.functions as f\n",
    "\n",
    "from pyspark import SparkContext\n",
    "from pyspark.sql import SparkSession\n",
    " \n",
    "spark = SparkSession.builder.appName(\"my_project_1\").getOrCreate()\n",
    "sc = spark.sparkContext"
   ]
  },
  {
   "cell_type": "code",
   "execution_count": 0,
   "metadata": {
    "application/vnd.databricks.v1+cell": {
     "cellMetadata": {
      "byteLimit": 2048000,
      "rowLimit": 10000
     },
     "inputWidgets": {},
     "nuid": "e441db1f-e344-4d6f-91f9-55377b9ec205",
     "showTitle": false,
     "title": ""
    }
   },
   "outputs": [],
   "source": [
    "# Read a CSV into a dataframe\n",
    "# There is a smarter version, that will first check if there is a Parquet file and use it\n",
    "def load_csv_file(filename, schema):\n",
    "  # Reads the relevant file from distributed file system using the given schema\n",
    "\n",
    "  allowed_files = {'Daily program data': ('Daily program data', \"|\"),\n",
    "                   'demographic': ('demographic', \"|\")}\n",
    "\n",
    "  if filename not in allowed_files.keys():\n",
    "    print(f'You were trying to access unknown file \\\"{filename}\\\". Only valid options are {allowed_files.keys()}')\n",
    "    return None\n",
    "\n",
    "  filepath = allowed_files[filename][0]\n",
    "  dataPath = f\"dbfs:/mnt/coursedata2024/fwm-stb-data/{filepath}\"\n",
    "  delimiter = allowed_files[filename][1]\n",
    "\n",
    "  df = spark.read.format(\"csv\")\\\n",
    "    .option(\"header\",\"false\")\\\n",
    "    .option(\"delimiter\",delimiter)\\\n",
    "    .schema(schema)\\\n",
    "    .load(dataPath)\n",
    "  return df\n",
    "\n",
    "# This dict holds the correct schemata for easily loading the CSVs\n",
    "schemas_dict = {'Daily program data':\n",
    "                  StructType([\n",
    "                    StructField('prog_code', StringType()),\n",
    "                    StructField('title', StringType()),\n",
    "                    StructField('genre', StringType()),\n",
    "                    StructField('air_date', StringType()),\n",
    "                    StructField('air_time', StringType()),\n",
    "                    StructField('Duration', FloatType())\n",
    "                  ]),\n",
    "                'viewing':\n",
    "                  StructType([\n",
    "                    StructField('device_id', StringType()),\n",
    "                    StructField('event_date', StringType()),\n",
    "                    StructField('event_time', IntegerType()),\n",
    "                    StructField('mso_code', StringType()),\n",
    "                    StructField('prog_code', StringType()),\n",
    "                    StructField('station_num', StringType())\n",
    "                  ]),\n",
    "                'viewing_full':\n",
    "                  StructType([\n",
    "                    StructField('mso_code', StringType()),\n",
    "                    StructField('device_id', StringType()),\n",
    "                    StructField('event_date', IntegerType()),\n",
    "                    StructField('event_time', IntegerType()),\n",
    "                    StructField('station_num', StringType()),\n",
    "                    StructField('prog_code', StringType())\n",
    "                  ]),\n",
    "                'demographic':\n",
    "                  StructType([StructField('household_id',StringType()),\n",
    "                    StructField('household_size',IntegerType()),\n",
    "                    StructField('num_adults',IntegerType()),\n",
    "                    StructField('num_generations',IntegerType()),\n",
    "                    StructField('adult_range',StringType()),\n",
    "                    StructField('marital_status',StringType()),\n",
    "                    StructField('race_code',StringType()),\n",
    "                    StructField('presence_children',StringType()),\n",
    "                    StructField('num_children',IntegerType()),\n",
    "                    StructField('age_children',StringType()), #format like range - 'bitwise'\n",
    "                    StructField('age_range_children',StringType()),\n",
    "                    StructField('dwelling_type',StringType()),\n",
    "                    StructField('home_owner_status',StringType()),\n",
    "                    StructField('length_residence',IntegerType()),\n",
    "                    StructField('home_market_value',StringType()),\n",
    "                    StructField('num_vehicles',IntegerType()),\n",
    "                    StructField('vehicle_make',StringType()),\n",
    "                    StructField('vehicle_model',StringType()),\n",
    "                    StructField('vehicle_year',IntegerType()),\n",
    "                    StructField('net_worth',IntegerType()),\n",
    "                    StructField('income',StringType()),\n",
    "                    StructField('gender_individual',StringType()),\n",
    "                    StructField('age_individual',IntegerType()),\n",
    "                    StructField('education_highest',StringType()),\n",
    "                    StructField('occupation_highest',StringType()),\n",
    "                    StructField('education_1',StringType()),\n",
    "                    StructField('occupation_1',StringType()),\n",
    "                    StructField('age_2',IntegerType()),\n",
    "                    StructField('education_2',StringType()),\n",
    "                    StructField('occupation_2',StringType()),\n",
    "                    StructField('age_3',IntegerType()),\n",
    "                    StructField('education_3',StringType()),\n",
    "                    StructField('occupation_3',StringType()),\n",
    "                    StructField('age_4',IntegerType()),\n",
    "                    StructField('education_4',StringType()),\n",
    "                    StructField('occupation_4',StringType()),\n",
    "                    StructField('age_5',IntegerType()),\n",
    "                    StructField('education_5',StringType()),\n",
    "                    StructField('occupation_5',StringType()),\n",
    "                    StructField('polit_party_regist',StringType()),\n",
    "                    StructField('polit_party_input',StringType()),\n",
    "                    StructField('household_clusters',StringType()),\n",
    "                    StructField('insurance_groups',StringType()),\n",
    "                    StructField('financial_groups',StringType()),\n",
    "                    StructField('green_living',StringType())\n",
    "                  ])\n",
    "}"
   ]
  },
  {
   "cell_type": "code",
   "execution_count": 0,
   "metadata": {
    "application/vnd.databricks.v1+cell": {
     "cellMetadata": {
      "byteLimit": 2048000,
      "rowLimit": 10000
     },
     "inputWidgets": {},
     "nuid": "bd8a1cd6-d988-46d6-90ae-f4121d64ca61",
     "showTitle": false,
     "title": ""
    }
   },
   "outputs": [
    {
     "output_type": "stream",
     "name": "stdout",
     "output_type": "stream",
     "text": [
      "root\n |-- household_id: string (nullable = true)\n |-- household_size: integer (nullable = true)\n |-- num_adults: integer (nullable = true)\n |-- num_generations: integer (nullable = true)\n |-- adult_range: string (nullable = true)\n |-- marital_status: string (nullable = true)\n |-- race_code: string (nullable = true)\n |-- presence_children: string (nullable = true)\n |-- num_children: integer (nullable = true)\n |-- age_children: string (nullable = true)\n |-- age_range_children: string (nullable = true)\n |-- dwelling_type: string (nullable = true)\n |-- home_owner_status: string (nullable = true)\n |-- length_residence: integer (nullable = true)\n |-- home_market_value: string (nullable = true)\n |-- num_vehicles: integer (nullable = true)\n |-- vehicle_make: string (nullable = true)\n |-- vehicle_model: string (nullable = true)\n |-- vehicle_year: integer (nullable = true)\n |-- net_worth: integer (nullable = true)\n |-- income: string (nullable = true)\n |-- gender_individual: string (nullable = true)\n |-- age_individual: integer (nullable = true)\n |-- education_highest: string (nullable = true)\n |-- occupation_highest: string (nullable = true)\n |-- education_1: string (nullable = true)\n |-- occupation_1: string (nullable = true)\n |-- age_2: integer (nullable = true)\n |-- education_2: string (nullable = true)\n |-- occupation_2: string (nullable = true)\n |-- age_3: integer (nullable = true)\n |-- education_3: string (nullable = true)\n |-- occupation_3: string (nullable = true)\n |-- age_4: integer (nullable = true)\n |-- education_4: string (nullable = true)\n |-- occupation_4: string (nullable = true)\n |-- age_5: integer (nullable = true)\n |-- education_5: string (nullable = true)\n |-- occupation_5: string (nullable = true)\n |-- polit_party_regist: string (nullable = true)\n |-- polit_party_input: string (nullable = true)\n |-- household_clusters: string (nullable = true)\n |-- insurance_groups: string (nullable = true)\n |-- financial_groups: string (nullable = true)\n |-- green_living: string (nullable = true)\n\ndemo_df contains 357721 records!\n"
     ]
    },
    {
     "output_type": "display_data",
     "data": {
      "text/html": [
       "<style scoped>\n",
       "  .table-result-container {\n",
       "    max-height: 300px;\n",
       "    overflow: auto;\n",
       "  }\n",
       "  table, th, td {\n",
       "    border: 1px solid black;\n",
       "    border-collapse: collapse;\n",
       "  }\n",
       "  th, td {\n",
       "    padding: 5px;\n",
       "  }\n",
       "  th {\n",
       "    text-align: left;\n",
       "  }\n",
       "</style><div class='table-result-container'><table class='table-result'><thead style='background-color: white'><tr><th>household_id</th><th>household_size</th><th>num_adults</th><th>num_generations</th><th>adult_range</th><th>marital_status</th><th>race_code</th><th>presence_children</th><th>num_children</th><th>age_children</th><th>age_range_children</th><th>dwelling_type</th><th>home_owner_status</th><th>length_residence</th><th>home_market_value</th><th>num_vehicles</th><th>vehicle_make</th><th>vehicle_model</th><th>vehicle_year</th><th>net_worth</th><th>income</th><th>gender_individual</th><th>age_individual</th><th>education_highest</th><th>occupation_highest</th><th>education_1</th><th>occupation_1</th><th>age_2</th><th>education_2</th><th>occupation_2</th><th>age_3</th><th>education_3</th><th>occupation_3</th><th>age_4</th><th>education_4</th><th>occupation_4</th><th>age_5</th><th>education_5</th><th>occupation_5</th><th>polit_party_regist</th><th>polit_party_input</th><th>household_clusters</th><th>insurance_groups</th><th>financial_groups</th><th>green_living</th></tr></thead><tbody><tr><td>00000015</td><td>2</td><td>2</td><td>1</td><td>000000000000100000000</td><td>S</td><td>B</td><td>null</td><td>null</td><td>0000000000000000000</td><td>000000000000000</td><td>S</td><td>O</td><td>5</td><td>E</td><td>null</td><td>null</td><td>null</td><td>null</td><td>6</td><td>4</td><td>M</td><td>60</td><td>4</td><td>null</td><td>null</td><td>null</td><td>null</td><td>null</td><td>null</td><td>null</td><td>null</td><td>null</td><td>null</td><td>null</td><td>null</td><td>null</td><td>null</td><td>null</td><td>null</td><td>D</td><td>443</td><td>02C3</td><td>08C3</td><td>null</td></tr><tr><td>00000024</td><td>2</td><td>2</td><td>1</td><td>000000000100000000000</td><td>null</td><td>W</td><td>null</td><td>null</td><td>0000000000000000000</td><td>000000000000000</td><td>M</td><td>O</td><td>null</td><td>F</td><td>null</td><td>null</td><td>null</td><td>null</td><td>7</td><td>7</td><td>F</td><td>46</td><td>3</td><td>Z</td><td>null</td><td>null</td><td>null</td><td>null</td><td>null</td><td>null</td><td>null</td><td>null</td><td>null</td><td>null</td><td>null</td><td>null</td><td>null</td><td>null</td><td>null</td><td>R</td><td>223</td><td>09O3</td><td>03O3</td><td>null</td></tr><tr><td>00000026</td><td>null</td><td>null</td><td>null</td><td>000000000000000000000</td><td>null</td><td>null</td><td>null</td><td>null</td><td>0000000000000000000</td><td>000000000000000</td><td>S</td><td>null</td><td>null</td><td>F</td><td>null</td><td>null</td><td>null</td><td>null</td><td>null</td><td>null</td><td>null</td><td>null</td><td>null</td><td>null</td><td>null</td><td>null</td><td>null</td><td>null</td><td>null</td><td>null</td><td>null</td><td>null</td><td>null</td><td>null</td><td>null</td><td>null</td><td>null</td><td>null</td><td>null</td><td>null</td><td>46G</td><td>04CG</td><td>08CG</td><td>null</td></tr><tr><td>00000028</td><td>3</td><td>2</td><td>2</td><td>000000110000000000000</td><td>S</td><td>W</td><td>Y</td><td>1</td><td>0000010000000000000</td><td>000001000000000</td><td>S</td><td>O</td><td>3</td><td>H</td><td>null</td><td>null</td><td>null</td><td>null</td><td>5</td><td>7</td><td>M</td><td>38</td><td>2</td><td>4</td><td>null</td><td>null</td><td>34</td><td>1</td><td>7</td><td>null</td><td>null</td><td>null</td><td>null</td><td>null</td><td>null</td><td>null</td><td>null</td><td>null</td><td>null</td><td>V</td><td>473</td><td>11R3</td><td>09C3</td><td>1</td></tr><tr><td>00000035</td><td>1</td><td>1</td><td>1</td><td>000000000100000000000</td><td>null</td><td>W</td><td>null</td><td>null</td><td>0000000000000000000</td><td>000000000000000</td><td>null</td><td>null</td><td>null</td><td>G</td><td>null</td><td>null</td><td>null</td><td>null</td><td>4</td><td>null</td><td>M</td><td>50</td><td>2</td><td>1</td><td>null</td><td>null</td><td>null</td><td>null</td><td>null</td><td>null</td><td>null</td><td>null</td><td>null</td><td>null</td><td>null</td><td>null</td><td>null</td><td>null</td><td>null</td><td>D</td><td>523</td><td>13C3</td><td>08C3</td><td>null</td></tr><tr><td>00000036</td><td>null</td><td>null</td><td>null</td><td>000000000000000000000</td><td>null</td><td>null</td><td>null</td><td>null</td><td>0000000000000000000</td><td>000000000000000</td><td>null</td><td>null</td><td>null</td><td>G</td><td>null</td><td>null</td><td>null</td><td>null</td><td>null</td><td>null</td><td>null</td><td>null</td><td>null</td><td>null</td><td>null</td><td>null</td><td>null</td><td>null</td><td>null</td><td>null</td><td>null</td><td>null</td><td>null</td><td>null</td><td>null</td><td>null</td><td>null</td><td>null</td><td>null</td><td>null</td><td>51G</td><td>10RG</td><td>10RG</td><td>null</td></tr></tbody></table></div>"
      ]
     },
     "metadata": {
      "application/vnd.databricks.v1+output": {
       "addedWidgets": {},
       "aggData": [],
       "aggError": "",
       "aggOverflow": false,
       "aggSchema": [],
       "aggSeriesLimitReached": false,
       "aggType": "",
       "arguments": {},
       "columnCustomDisplayInfos": {},
       "data": [
        [
         "00000015",
         2,
         2,
         1,
         "000000000000100000000",
         "S",
         "B",
         null,
         null,
         "0000000000000000000",
         "000000000000000",
         "S",
         "O",
         5,
         "E",
         null,
         null,
         null,
         null,
         6,
         "4",
         "M",
         60,
         "4",
         null,
         null,
         null,
         null,
         null,
         null,
         null,
         null,
         null,
         null,
         null,
         null,
         null,
         null,
         null,
         null,
         "D",
         "443",
         "02C3",
         "08C3",
         null
        ],
        [
         "00000024",
         2,
         2,
         1,
         "000000000100000000000",
         null,
         "W",
         null,
         null,
         "0000000000000000000",
         "000000000000000",
         "M",
         "O",
         null,
         "F",
         null,
         null,
         null,
         null,
         7,
         "7",
         "F",
         46,
         "3",
         "Z",
         null,
         null,
         null,
         null,
         null,
         null,
         null,
         null,
         null,
         null,
         null,
         null,
         null,
         null,
         null,
         "R",
         "223",
         "09O3",
         "03O3",
         null
        ],
        [
         "00000026",
         null,
         null,
         null,
         "000000000000000000000",
         null,
         null,
         null,
         null,
         "0000000000000000000",
         "000000000000000",
         "S",
         null,
         null,
         "F",
         null,
         null,
         null,
         null,
         null,
         null,
         null,
         null,
         null,
         null,
         null,
         null,
         null,
         null,
         null,
         null,
         null,
         null,
         null,
         null,
         null,
         null,
         null,
         null,
         null,
         null,
         "46G",
         "04CG",
         "08CG",
         null
        ],
        [
         "00000028",
         3,
         2,
         2,
         "000000110000000000000",
         "S",
         "W",
         "Y",
         1,
         "0000010000000000000",
         "000001000000000",
         "S",
         "O",
         3,
         "H",
         null,
         null,
         null,
         null,
         5,
         "7",
         "M",
         38,
         "2",
         "4",
         null,
         null,
         34,
         "1",
         "7",
         null,
         null,
         null,
         null,
         null,
         null,
         null,
         null,
         null,
         null,
         "V",
         "473",
         "11R3",
         "09C3",
         "1"
        ],
        [
         "00000035",
         1,
         1,
         1,
         "000000000100000000000",
         null,
         "W",
         null,
         null,
         "0000000000000000000",
         "000000000000000",
         null,
         null,
         null,
         "G",
         null,
         null,
         null,
         null,
         4,
         null,
         "M",
         50,
         "2",
         "1",
         null,
         null,
         null,
         null,
         null,
         null,
         null,
         null,
         null,
         null,
         null,
         null,
         null,
         null,
         null,
         "D",
         "523",
         "13C3",
         "08C3",
         null
        ],
        [
         "00000036",
         null,
         null,
         null,
         "000000000000000000000",
         null,
         null,
         null,
         null,
         "0000000000000000000",
         "000000000000000",
         null,
         null,
         null,
         "G",
         null,
         null,
         null,
         null,
         null,
         null,
         null,
         null,
         null,
         null,
         null,
         null,
         null,
         null,
         null,
         null,
         null,
         null,
         null,
         null,
         null,
         null,
         null,
         null,
         null,
         null,
         "51G",
         "10RG",
         "10RG",
         null
        ]
       ],
       "datasetInfos": [],
       "dbfsResultPath": null,
       "isJsonSchema": true,
       "metadata": {},
       "overflow": false,
       "plotOptions": {
        "customPlotOptions": {},
        "displayType": "table",
        "pivotAggregation": null,
        "pivotColumns": null,
        "xColumns": null,
        "yColumns": null
       },
       "removedWidgets": [],
       "schema": [
        {
         "metadata": "{}",
         "name": "household_id",
         "type": "\"string\""
        },
        {
         "metadata": "{}",
         "name": "household_size",
         "type": "\"integer\""
        },
        {
         "metadata": "{}",
         "name": "num_adults",
         "type": "\"integer\""
        },
        {
         "metadata": "{}",
         "name": "num_generations",
         "type": "\"integer\""
        },
        {
         "metadata": "{}",
         "name": "adult_range",
         "type": "\"string\""
        },
        {
         "metadata": "{}",
         "name": "marital_status",
         "type": "\"string\""
        },
        {
         "metadata": "{}",
         "name": "race_code",
         "type": "\"string\""
        },
        {
         "metadata": "{}",
         "name": "presence_children",
         "type": "\"string\""
        },
        {
         "metadata": "{}",
         "name": "num_children",
         "type": "\"integer\""
        },
        {
         "metadata": "{}",
         "name": "age_children",
         "type": "\"string\""
        },
        {
         "metadata": "{}",
         "name": "age_range_children",
         "type": "\"string\""
        },
        {
         "metadata": "{}",
         "name": "dwelling_type",
         "type": "\"string\""
        },
        {
         "metadata": "{}",
         "name": "home_owner_status",
         "type": "\"string\""
        },
        {
         "metadata": "{}",
         "name": "length_residence",
         "type": "\"integer\""
        },
        {
         "metadata": "{}",
         "name": "home_market_value",
         "type": "\"string\""
        },
        {
         "metadata": "{}",
         "name": "num_vehicles",
         "type": "\"integer\""
        },
        {
         "metadata": "{}",
         "name": "vehicle_make",
         "type": "\"string\""
        },
        {
         "metadata": "{}",
         "name": "vehicle_model",
         "type": "\"string\""
        },
        {
         "metadata": "{}",
         "name": "vehicle_year",
         "type": "\"integer\""
        },
        {
         "metadata": "{}",
         "name": "net_worth",
         "type": "\"integer\""
        },
        {
         "metadata": "{}",
         "name": "income",
         "type": "\"string\""
        },
        {
         "metadata": "{}",
         "name": "gender_individual",
         "type": "\"string\""
        },
        {
         "metadata": "{}",
         "name": "age_individual",
         "type": "\"integer\""
        },
        {
         "metadata": "{}",
         "name": "education_highest",
         "type": "\"string\""
        },
        {
         "metadata": "{}",
         "name": "occupation_highest",
         "type": "\"string\""
        },
        {
         "metadata": "{}",
         "name": "education_1",
         "type": "\"string\""
        },
        {
         "metadata": "{}",
         "name": "occupation_1",
         "type": "\"string\""
        },
        {
         "metadata": "{}",
         "name": "age_2",
         "type": "\"integer\""
        },
        {
         "metadata": "{}",
         "name": "education_2",
         "type": "\"string\""
        },
        {
         "metadata": "{}",
         "name": "occupation_2",
         "type": "\"string\""
        },
        {
         "metadata": "{}",
         "name": "age_3",
         "type": "\"integer\""
        },
        {
         "metadata": "{}",
         "name": "education_3",
         "type": "\"string\""
        },
        {
         "metadata": "{}",
         "name": "occupation_3",
         "type": "\"string\""
        },
        {
         "metadata": "{}",
         "name": "age_4",
         "type": "\"integer\""
        },
        {
         "metadata": "{}",
         "name": "education_4",
         "type": "\"string\""
        },
        {
         "metadata": "{}",
         "name": "occupation_4",
         "type": "\"string\""
        },
        {
         "metadata": "{}",
         "name": "age_5",
         "type": "\"integer\""
        },
        {
         "metadata": "{}",
         "name": "education_5",
         "type": "\"string\""
        },
        {
         "metadata": "{}",
         "name": "occupation_5",
         "type": "\"string\""
        },
        {
         "metadata": "{}",
         "name": "polit_party_regist",
         "type": "\"string\""
        },
        {
         "metadata": "{}",
         "name": "polit_party_input",
         "type": "\"string\""
        },
        {
         "metadata": "{}",
         "name": "household_clusters",
         "type": "\"string\""
        },
        {
         "metadata": "{}",
         "name": "insurance_groups",
         "type": "\"string\""
        },
        {
         "metadata": "{}",
         "name": "financial_groups",
         "type": "\"string\""
        },
        {
         "metadata": "{}",
         "name": "green_living",
         "type": "\"string\""
        }
       ],
       "type": "table"
      }
     },
     "output_type": "display_data"
    },
    {
     "output_type": "stream",
     "name": "stdout",
     "output_type": "stream",
     "text": [
      "CPU times: user 3.28 s, sys: 67.3 ms, total: 3.35 s\nWall time: 23.4 s\n"
     ]
    }
   ],
   "source": [
    "%%time\n",
    "# demographic data filename is 'demographic'\n",
    "demo_df = load_csv_file('demographic', schemas_dict['demographic'])\n",
    "# bonus points ?\n",
    "demo_df.printSchema()\n",
    "print(f'demo_df contains {demo_df.count()} records!')\n",
    "display(demo_df.limit(6))"
   ]
  },
  {
   "cell_type": "code",
   "execution_count": 0,
   "metadata": {
    "application/vnd.databricks.v1+cell": {
     "cellMetadata": {
      "byteLimit": 2048000,
      "rowLimit": 10000
     },
     "inputWidgets": {},
     "nuid": "b99491cc-8afc-401a-a48d-dec9becf333f",
     "showTitle": false,
     "title": ""
    }
   },
   "outputs": [
    {
     "output_type": "stream",
     "name": "stdout",
     "output_type": "stream",
     "text": [
      "root\n |-- prog_code: string (nullable = true)\n |-- title: string (nullable = true)\n |-- genre: string (nullable = true)\n |-- air_date: string (nullable = true)\n |-- air_time: string (nullable = true)\n |-- Duration: float (nullable = true)\n\ndaily_prog_df contains 13194849 records!\n"
     ]
    },
    {
     "output_type": "display_data",
     "data": {
      "text/html": [
       "<style scoped>\n",
       "  .table-result-container {\n",
       "    max-height: 300px;\n",
       "    overflow: auto;\n",
       "  }\n",
       "  table, th, td {\n",
       "    border: 1px solid black;\n",
       "    border-collapse: collapse;\n",
       "  }\n",
       "  th, td {\n",
       "    padding: 5px;\n",
       "  }\n",
       "  th {\n",
       "    text-align: left;\n",
       "  }\n",
       "</style><div class='table-result-container'><table class='table-result'><thead style='background-color: white'><tr><th>prog_code</th><th>title</th><th>genre</th><th>air_date</th><th>air_time</th><th>Duration</th></tr></thead><tbody><tr><td>EP000000250035</td><td>21 Jump Street</td><td>Crime drama</td><td>20151219</td><td>050000</td><td>60.0</td></tr><tr><td>EP000000250035</td><td>21 Jump Street</td><td>Crime drama</td><td>20151219</td><td>110000</td><td>60.0</td></tr><tr><td>EP000000250063</td><td>21 Jump Street</td><td>Crime drama</td><td>20151219</td><td>180000</td><td>60.0</td></tr><tr><td>EP000000510007</td><td>A Different World</td><td>Sitcom</td><td>20151219</td><td>100000</td><td>30.0</td></tr><tr><td>EP000000510008</td><td>A Different World</td><td>Sitcom</td><td>20151219</td><td>103000</td><td>30.0</td></tr><tr><td>EP000000510159</td><td>A Different World</td><td>Sitcom</td><td>20151219</td><td>080300</td><td>29.0</td></tr></tbody></table></div>"
      ]
     },
     "metadata": {
      "application/vnd.databricks.v1+output": {
       "addedWidgets": {},
       "aggData": [],
       "aggError": "",
       "aggOverflow": false,
       "aggSchema": [],
       "aggSeriesLimitReached": false,
       "aggType": "",
       "arguments": {},
       "columnCustomDisplayInfos": {},
       "data": [
        [
         "EP000000250035",
         "21 Jump Street",
         "Crime drama",
         "20151219",
         "050000",
         60.0
        ],
        [
         "EP000000250035",
         "21 Jump Street",
         "Crime drama",
         "20151219",
         "110000",
         60.0
        ],
        [
         "EP000000250063",
         "21 Jump Street",
         "Crime drama",
         "20151219",
         "180000",
         60.0
        ],
        [
         "EP000000510007",
         "A Different World",
         "Sitcom",
         "20151219",
         "100000",
         30.0
        ],
        [
         "EP000000510008",
         "A Different World",
         "Sitcom",
         "20151219",
         "103000",
         30.0
        ],
        [
         "EP000000510159",
         "A Different World",
         "Sitcom",
         "20151219",
         "080300",
         29.0
        ]
       ],
       "datasetInfos": [],
       "dbfsResultPath": null,
       "isJsonSchema": true,
       "metadata": {},
       "overflow": false,
       "plotOptions": {
        "customPlotOptions": {},
        "displayType": "table",
        "pivotAggregation": null,
        "pivotColumns": null,
        "xColumns": null,
        "yColumns": null
       },
       "removedWidgets": [],
       "schema": [
        {
         "metadata": "{}",
         "name": "prog_code",
         "type": "\"string\""
        },
        {
         "metadata": "{}",
         "name": "title",
         "type": "\"string\""
        },
        {
         "metadata": "{}",
         "name": "genre",
         "type": "\"string\""
        },
        {
         "metadata": "{}",
         "name": "air_date",
         "type": "\"string\""
        },
        {
         "metadata": "{}",
         "name": "air_time",
         "type": "\"string\""
        },
        {
         "metadata": "{}",
         "name": "Duration",
         "type": "\"float\""
        }
       ],
       "type": "table"
      }
     },
     "output_type": "display_data"
    },
    {
     "output_type": "stream",
     "name": "stdout",
     "output_type": "stream",
     "text": [
      "CPU times: user 3.77 s, sys: 61.5 ms, total: 3.83 s\nWall time: 11.2 s\n"
     ]
    }
   ],
   "source": [
    "%%time\n",
    "# daily_program data filename is 'Daily program data'\n",
    "daily_prog_df = load_csv_file('Daily program data', schemas_dict['Daily program data'])\n",
    "\n",
    "daily_prog_df.printSchema()\n",
    "print(f'daily_prog_df contains {daily_prog_df.count()} records!')\n",
    "display(daily_prog_df.limit(6))"
   ]
  },
  {
   "cell_type": "code",
   "execution_count": 0,
   "metadata": {
    "application/vnd.databricks.v1+cell": {
     "cellMetadata": {
      "byteLimit": 2048000,
      "rowLimit": 10000
     },
     "inputWidgets": {},
     "nuid": "bac563ed-8150-491b-99f1-8a87b6698e0b",
     "showTitle": false,
     "title": ""
    }
   },
   "outputs": [
    {
     "output_type": "stream",
     "name": "stdout",
     "output_type": "stream",
     "text": [
      "root\n |-- device_id: string (nullable = true)\n |-- dma: string (nullable = true)\n |-- dma_code: long (nullable = true)\n |-- household_id: long (nullable = true)\n |-- household_type: string (nullable = true)\n |-- system_type: string (nullable = true)\n |-- zipcode: long (nullable = true)\n\nref_df contains 1268071 records!\n"
     ]
    },
    {
     "output_type": "display_data",
     "data": {
      "text/html": [
       "<style scoped>\n",
       "  .table-result-container {\n",
       "    max-height: 300px;\n",
       "    overflow: auto;\n",
       "  }\n",
       "  table, th, td {\n",
       "    border: 1px solid black;\n",
       "    border-collapse: collapse;\n",
       "  }\n",
       "  th, td {\n",
       "    padding: 5px;\n",
       "  }\n",
       "  th {\n",
       "    text-align: left;\n",
       "  }\n",
       "</style><div class='table-result-container'><table class='table-result'><thead style='background-color: white'><tr><th>device_id</th><th>dma</th><th>dma_code</th><th>household_id</th><th>household_type</th><th>system_type</th><th>zipcode</th></tr></thead><tbody><tr><td>00000113498f</td><td>Toledo</td><td>547</td><td>1470605</td><td>FWM-ID</td><td>H</td><td>43460</td></tr><tr><td>12bf0065bad0</td><td>Toledo</td><td>547</td><td>1492575</td><td>FWM-ID</td><td>H</td><td>43460</td></tr><tr><td>000000797c1d</td><td>Toledo</td><td>547</td><td>1493317</td><td>FWM-ID</td><td>H</td><td>43460</td></tr><tr><td>000002de361c</td><td>Toledo</td><td>547</td><td>1446566</td><td>FWM-ID</td><td>H</td><td>43528</td></tr><tr><td>0000026360a2</td><td>Toledo</td><td>547</td><td>1467668</td><td>FWM-ID</td><td>H</td><td>43528</td></tr><tr><td>00000071622f</td><td>Toledo</td><td>547</td><td>1519598</td><td>FWM-ID</td><td>H</td><td>43528</td></tr></tbody></table></div>"
      ]
     },
     "metadata": {
      "application/vnd.databricks.v1+output": {
       "addedWidgets": {},
       "aggData": [],
       "aggError": "",
       "aggOverflow": false,
       "aggSchema": [],
       "aggSeriesLimitReached": false,
       "aggType": "",
       "arguments": {},
       "columnCustomDisplayInfos": {},
       "data": [
        [
         "00000113498f",
         "Toledo",
         547,
         1470605,
         "FWM-ID",
         "H",
         43460
        ],
        [
         "12bf0065bad0",
         "Toledo",
         547,
         1492575,
         "FWM-ID",
         "H",
         43460
        ],
        [
         "000000797c1d",
         "Toledo",
         547,
         1493317,
         "FWM-ID",
         "H",
         43460
        ],
        [
         "000002de361c",
         "Toledo",
         547,
         1446566,
         "FWM-ID",
         "H",
         43528
        ],
        [
         "0000026360a2",
         "Toledo",
         547,
         1467668,
         "FWM-ID",
         "H",
         43528
        ],
        [
         "00000071622f",
         "Toledo",
         547,
         1519598,
         "FWM-ID",
         "H",
         43528
        ]
       ],
       "datasetInfos": [],
       "dbfsResultPath": null,
       "isJsonSchema": true,
       "metadata": {},
       "overflow": false,
       "plotOptions": {
        "customPlotOptions": {},
        "displayType": "table",
        "pivotAggregation": null,
        "pivotColumns": null,
        "xColumns": null,
        "yColumns": null
       },
       "removedWidgets": [],
       "schema": [
        {
         "metadata": "{}",
         "name": "device_id",
         "type": "\"string\""
        },
        {
         "metadata": "{}",
         "name": "dma",
         "type": "\"string\""
        },
        {
         "metadata": "{}",
         "name": "dma_code",
         "type": "\"long\""
        },
        {
         "metadata": "{}",
         "name": "household_id",
         "type": "\"long\""
        },
        {
         "metadata": "{}",
         "name": "household_type",
         "type": "\"string\""
        },
        {
         "metadata": "{}",
         "name": "system_type",
         "type": "\"string\""
        },
        {
         "metadata": "{}",
         "name": "zipcode",
         "type": "\"long\""
        }
       ],
       "type": "table"
      }
     },
     "output_type": "display_data"
    },
    {
     "output_type": "stream",
     "name": "stdout",
     "output_type": "stream",
     "text": [
      "CPU times: user 1.29 s, sys: 3.19 ms, total: 1.29 s\nWall time: 6.46 s\n"
     ]
    }
   ],
   "source": [
    "%%time\n",
    "# reference data is stored in parquet for your convinence.\n",
    "\n",
    "ref_df = spark.read.parquet('dbfs:/refxml_new_parquet')\n",
    "\n",
    "ref_df.printSchema()\n",
    "print(f'ref_df contains {ref_df.count()} records!')\n",
    "display(ref_df.limit(6))"
   ]
  },
  {
   "cell_type": "code",
   "execution_count": 0,
   "metadata": {
    "application/vnd.databricks.v1+cell": {
     "cellMetadata": {
      "byteLimit": 2048000,
      "rowLimit": 10000
     },
     "inputWidgets": {},
     "nuid": "e1b64e73-2d0d-48ce-860a-ac66919d27d5",
     "showTitle": false,
     "title": ""
    }
   },
   "outputs": [
    {
     "output_type": "display_data",
     "data": {
      "text/html": [
       "<style scoped>\n",
       "  .table-result-container {\n",
       "    max-height: 300px;\n",
       "    overflow: auto;\n",
       "  }\n",
       "  table, th, td {\n",
       "    border: 1px solid black;\n",
       "    border-collapse: collapse;\n",
       "  }\n",
       "  th, td {\n",
       "    padding: 5px;\n",
       "  }\n",
       "  th {\n",
       "    text-align: left;\n",
       "  }\n",
       "</style><div class='table-result-container'><table class='table-result'><thead style='background-color: white'><tr><th>mso_code</th><th>device_id</th><th>event_date</th><th>event_time</th><th>station_num</th><th>prog_code</th></tr></thead><tbody><tr><td>01540</td><td>000000033afa</td><td>20151101</td><td>33000</td><td>67375</td><td>EP020820940009</td></tr><tr><td>01540</td><td>00000004e4b6</td><td>20151101</td><td>93000</td><td>42599</td><td>SP003189620000</td></tr><tr><td>01540</td><td>00000004eb8f</td><td>20151101</td><td>91856</td><td>42642</td><td>EP000176170270</td></tr><tr><td>01540</td><td>00000004f1d6</td><td>20151101</td><td>90206</td><td>68827</td><td>EP007961190099</td></tr><tr><td>01540</td><td>00000004f3c0</td><td>20151101</td><td>160658</td><td>10178</td><td>MV000259670000</td></tr><tr><td>01540</td><td>000000051ca0</td><td>20151101</td><td>174949</td><td>32645</td><td>EP001786120664</td></tr></tbody></table></div>"
      ]
     },
     "metadata": {
      "application/vnd.databricks.v1+output": {
       "addedWidgets": {},
       "aggData": [],
       "aggError": "",
       "aggOverflow": false,
       "aggSchema": [],
       "aggSeriesLimitReached": false,
       "aggType": "",
       "arguments": {},
       "columnCustomDisplayInfos": {},
       "data": [
        [
         "01540",
         "000000033afa",
         20151101,
         33000,
         "67375",
         "EP020820940009"
        ],
        [
         "01540",
         "00000004e4b6",
         20151101,
         93000,
         "42599",
         "SP003189620000"
        ],
        [
         "01540",
         "00000004eb8f",
         20151101,
         91856,
         "42642",
         "EP000176170270"
        ],
        [
         "01540",
         "00000004f1d6",
         20151101,
         90206,
         "68827",
         "EP007961190099"
        ],
        [
         "01540",
         "00000004f3c0",
         20151101,
         160658,
         "10178",
         "MV000259670000"
        ],
        [
         "01540",
         "000000051ca0",
         20151101,
         174949,
         "32645",
         "EP001786120664"
        ]
       ],
       "datasetInfos": [],
       "dbfsResultPath": null,
       "isJsonSchema": true,
       "metadata": {},
       "overflow": false,
       "plotOptions": {
        "customPlotOptions": {},
        "displayType": "table",
        "pivotAggregation": null,
        "pivotColumns": null,
        "xColumns": null,
        "yColumns": null
       },
       "removedWidgets": [],
       "schema": [
        {
         "metadata": "{}",
         "name": "mso_code",
         "type": "\"string\""
        },
        {
         "metadata": "{}",
         "name": "device_id",
         "type": "\"string\""
        },
        {
         "metadata": "{}",
         "name": "event_date",
         "type": "\"integer\""
        },
        {
         "metadata": "{}",
         "name": "event_time",
         "type": "\"integer\""
        },
        {
         "metadata": "{}",
         "name": "station_num",
         "type": "\"string\""
        },
        {
         "metadata": "{}",
         "name": "prog_code",
         "type": "\"string\""
        }
       ],
       "type": "table"
      }
     },
     "output_type": "display_data"
    },
    {
     "output_type": "stream",
     "name": "stdout",
     "output_type": "stream",
     "text": [
      "viewing10m_df contains 10042340 rows!\n"
     ]
    }
   ],
   "source": [
    "# Sample of 10 Million viewing entries\n",
    "\n",
    "dataPath = f\"dbfs:/viewing_10M\"\n",
    "viewing10m_df = spark.read.format(\"csv\")\\\n",
    "    .option(\"header\",\"true\")\\\n",
    "    .option(\"delimiter\",\",\")\\\n",
    "    .schema(schemas_dict['viewing_full'])\\\n",
    "    .load(dataPath)\n",
    "\n",
    "display(viewing10m_df.limit(6))\n",
    "print(f'viewing10m_df contains {viewing10m_df.count()} rows!')"
   ]
  },
  {
   "cell_type": "markdown",
   "metadata": {
    "application/vnd.databricks.v1+cell": {
     "cellMetadata": {
      "byteLimit": 2048000,
      "rowLimit": 10000
     },
     "inputWidgets": {},
     "nuid": "8349fb77-a8f7-4b51-afb5-f5bf18e03640",
     "showTitle": false,
     "title": ""
    }
   },
   "source": [
    "#Part 1 - Spam Detection"
   ]
  },
  {
   "cell_type": "markdown",
   "metadata": {
    "application/vnd.databricks.v1+cell": {
     "cellMetadata": {
      "byteLimit": 2048000,
      "rowLimit": 10000
     },
     "inputWidgets": {},
     "nuid": "a6e4858d-0d3f-4816-b6cb-0e707272f641",
     "showTitle": false,
     "title": ""
    }
   },
   "source": [
    "Query 1"
   ]
  },
  {
   "cell_type": "code",
   "execution_count": 0,
   "metadata": {
    "application/vnd.databricks.v1+cell": {
     "cellMetadata": {
      "byteLimit": 2048000,
      "rowLimit": 10000
     },
     "inputWidgets": {},
     "nuid": "f4a21350-0159-4e63-ad9f-f9d467ef1d95",
     "showTitle": false,
     "title": ""
    }
   },
   "outputs": [],
   "source": [
    "def q1():\n",
    "    # clean df\n",
    "    cleaned_viewing_df = viewing10m_df\\\n",
    "        .dropDuplicates()\\\n",
    "            .dropna(subset=[\"device_id\", \"event_date\", \"prog_code\"])\\\n",
    "                .select(\"device_id\", \"event_date\", \"prog_code\")\n",
    "\n",
    "    #For each device count number of it's views on each date\n",
    "    #for each tuple of device and date, match num of views of this device on this date\n",
    "    daily_views_df = cleaned_viewing_df.groupBy(\"device_id\", \"event_date\")\\\n",
    "        .count()\\\n",
    "            .withColumnRenamed(\"count\", \"view_count\")\n",
    "\n",
    "    # for each device aggregate the number of views (at all dates together)\n",
    "    # and the number of days with views of this device\n",
    "    device_stats_df = daily_views_df.groupBy(\"device_id\").agg(\n",
    "        f.sum(\"view_count\").alias(\"total_views\"),\n",
    "        f.countDistinct(\"event_date\").alias(\"active_days\")\n",
    "    )\n",
    "\n",
    "    #given the daily average of the event get only the ones that have a daily average > 5\n",
    "    device_avg_views_df = device_stats_df.withColumn(\n",
    "        \"avg_daily_views\", f.col(\"total_views\") / f.col(\"active_days\")\n",
    "    ).filter(f.col(\"avg_daily_views\") > 5)\n",
    "\n",
    "    # get codes of bad programs according to query 1\n",
    "    prog_codes_1 = cleaned_viewing_df.join(device_avg_views_df, on=\"device_id\", how=\"inner\")\\\n",
    "        .select(\"prog_code\").distinct()    \n",
    "    return prog_codes_1\n"
   ]
  },
  {
   "cell_type": "markdown",
   "metadata": {
    "application/vnd.databricks.v1+cell": {
     "cellMetadata": {
      "byteLimit": 2048000,
      "rowLimit": 10000
     },
     "inputWidgets": {},
     "nuid": "72ce652d-1f50-4cbe-9237-88c7c66f42c6",
     "showTitle": false,
     "title": ""
    }
   },
   "source": [
    "Query 2"
   ]
  },
  {
   "cell_type": "code",
   "execution_count": 0,
   "metadata": {
    "application/vnd.databricks.v1+cell": {
     "cellMetadata": {
      "byteLimit": 2048000,
      "rowLimit": 10000
     },
     "inputWidgets": {},
     "nuid": "4427fdf5-3255-4092-9f89-a1e2636a90d8",
     "showTitle": false,
     "title": ""
    }
   },
   "outputs": [],
   "source": [
    "def q2():\n",
    "    # clean df's and find DMA's with z or Z in their titles\n",
    "    filtered_ref_df = ref_df.dropDuplicates([\"device_id\"]).dropna(subset=[\"device_id\",  \"DMA\"]).filter(f.col(\"DMA\").rlike(\"[zZ]\")).select('device_id', 'DMA')\n",
    "\n",
    "    cleaned_viewing = viewing10m_df.dropDuplicates([\"device_id\", \"prog_code\"]).dropna(subset=[\"device_id\", \"prog_code\"])\\\n",
    "        .select(\"device_id\", \"prog_code\")\n",
    "\n",
    "    # Join df's\n",
    "    joined_df = cleaned_viewing.alias(\"v\").join(\n",
    "        filtered_ref_df.alias(\"r\"),\n",
    "        f.col(\"v.device_id\") == f.col(\"r.device_id\"),\n",
    "        \"inner\"\n",
    "    )\n",
    "\n",
    "    prog_codes_2 = joined_df.select(\"v.prog_code\").distinct()\n",
    "    return prog_codes_2"
   ]
  },
  {
   "cell_type": "code",
   "execution_count": 0,
   "metadata": {
    "application/vnd.databricks.v1+cell": {
     "cellMetadata": {
      "byteLimit": 2048000,
      "rowLimit": 10000
     },
     "inputWidgets": {},
     "nuid": "01cfd44f-b2c1-4117-b0b0-86461dbcc465",
     "showTitle": false,
     "title": ""
    }
   },
   "outputs": [],
   "source": [
    "\n",
    "def q3():\n",
    "    # cleaning df's\n",
    "    filtered_ref_df = ref_df.dropDuplicates([\"device_id\",\"household_id\"]).dropna(subset=[\"device_id\",  \"household_id\"]).select('device_id', 'household_id')\n",
    "\n",
    "    cleaned_viewing = viewing10m_df.dropDuplicates([\"device_id\", \"prog_code\"]).dropna(subset=[\"device_id\", \"prog_code\"])\\\n",
    "        .select(\"device_id\", \"prog_code\")\n",
    "\n",
    "    demo_df_clean = demo_df.dropDuplicates([\"household_id\", \"net_worth\", \"num_adults\"]).dropna(subset=[\"household_id\", \"net_worth\", \"num_adults\"])\\\n",
    "        .select(\"household_id\", \"net_worth\", \"num_adults\")\n",
    "\n",
    "    joined_df = cleaned_viewing.join(filtered_ref_df, \"device_id\")\n",
    "\n",
    "    # Apply filters such that only family with less than 3 adults and networth that is greater than 8\n",
    "    joined_with_demo = joined_df.join(demo_df_clean, \"household_id\")\n",
    "    filtered_df = joined_with_demo.filter((f.col(\"num_adults\") < 3) & (f.col(\"net_worth\") > 8))\n",
    "\n",
    "    prog_codes_3 = filtered_df.select(\"prog_code\").distinct()\n",
    "    return prog_codes_3\n",
    "\n"
   ]
  },
  {
   "cell_type": "markdown",
   "metadata": {
    "application/vnd.databricks.v1+cell": {
     "cellMetadata": {},
     "inputWidgets": {},
     "nuid": "2dd39506-2812-4c76-b1a6-cd329d1dbec6",
     "showTitle": false,
     "title": ""
    }
   },
   "source": [
    "Query 4"
   ]
  },
  {
   "cell_type": "code",
   "execution_count": 0,
   "metadata": {
    "application/vnd.databricks.v1+cell": {
     "cellMetadata": {
      "byteLimit": 2048000,
      "rowLimit": 10000
     },
     "inputWidgets": {},
     "nuid": "a21b343c-bd86-4956-a4ff-d56462c1ad2e",
     "showTitle": false,
     "title": ""
    }
   },
   "outputs": [],
   "source": [
    "def q4():\n",
    "\n",
    "    #clean df\n",
    "    cleaned_viewing = daily_prog_df.withColumn(\"air_date\", f.dayofweek(f.to_date(daily_prog_df.air_date, \"yyyyMMdd\")))\\\n",
    "        .dropDuplicates([\"air_date\", \"air_time\", \"prog_code\"]).dropna(subset=[\"air_date\", \"air_time\", \"prog_code\"]).select(\"air_date\", \"air_time\", \"prog_code\")\n",
    "\n",
    "    # Find shows that were aired within given date and time ranges\n",
    "    prog_codes_4 = cleaned_viewing.filter(\n",
    "        (\n",
    "            (f.col(\"air_date\") == 6) &  # 6 corresponds to Friday\n",
    "            (f.col(\"air_time\").cast(\"int\") >= 180000)  # Between 6pm to 11:59pm\n",
    "        ) |\n",
    "        (\n",
    "            (f.col(\"air_date\") == 7) &  # 7 corresponds to Saturday\n",
    "            (f.col(\"air_time\").cast(\"int\") <= 190000) # Between 12am to 7pm\n",
    "        )\n",
    "    ).select(\"prog_code\").distinct()\n",
    "    return prog_codes_4\n",
    "\n"
   ]
  },
  {
   "cell_type": "markdown",
   "metadata": {
    "application/vnd.databricks.v1+cell": {
     "cellMetadata": {},
     "inputWidgets": {},
     "nuid": "0fc92122-e184-44ed-95e7-366ef57b6989",
     "showTitle": false,
     "title": ""
    }
   },
   "source": [
    "Query 5"
   ]
  },
  {
   "cell_type": "code",
   "execution_count": 0,
   "metadata": {
    "application/vnd.databricks.v1+cell": {
     "cellMetadata": {
      "byteLimit": 2048000,
      "rowLimit": 10000
     },
     "inputWidgets": {},
     "nuid": "348b0ac1-965d-4add-b185-6d3702096b7d",
     "showTitle": false,
     "title": ""
    }
   },
   "outputs": [],
   "source": [
    "def q5():\n",
    "\n",
    "    # clean df's\n",
    "    filtered_ref_df = ref_df.dropDuplicates([\"device_id\",\"household_id\"]).dropna(subset=[\"device_id\",  \"household_id\"]).select('device_id', 'household_id')\n",
    "\n",
    "    cleaned_viewing = viewing10m_df.dropDuplicates([\"device_id\", \"prog_code\"]).dropna(subset=[\"device_id\", \"prog_code\"]).select(\"device_id\", \"prog_code\")\n",
    "\n",
    "    demo_df_clean = demo_df.dropDuplicates([\"household_id\", \"household_size\"]).dropna(subset=[\"household_id\", \"household_size\"]).select(\"household_id\", \"household_size\")\n",
    "    joined_df = cleaned_viewing.join(filtered_ref_df, \"device_id\")\n",
    "\n",
    "    joined_with_demo = joined_df.join(demo_df_clean, \"household_id\")\n",
    "\n",
    "    # filter out so only families with a household > 8\n",
    "    filtered_df = joined_with_demo.filter(f.col(\"household_size\") >= 8)\n",
    "\n",
    "    prog_codes_5 = filtered_df.select(\"prog_code\").distinct()\n",
    "    return prog_codes_5\n",
    "\n"
   ]
  },
  {
   "cell_type": "markdown",
   "metadata": {
    "application/vnd.databricks.v1+cell": {
     "cellMetadata": {},
     "inputWidgets": {},
     "nuid": "0249a25c-4f6c-4082-91f3-772009f2bff4",
     "showTitle": false,
     "title": ""
    }
   },
   "source": [
    "Query 6"
   ]
  },
  {
   "cell_type": "code",
   "execution_count": 0,
   "metadata": {
    "application/vnd.databricks.v1+cell": {
     "cellMetadata": {
      "byteLimit": 2048000,
      "rowLimit": 10000
     },
     "inputWidgets": {},
     "nuid": "b247295a-56b7-437b-b5fb-5247f5797353",
     "showTitle": false,
     "title": ""
    }
   },
   "outputs": [],
   "source": [
    "from pyspark.sql.functions import col, when, avg\n",
    "\n",
    "def q6():\n",
    "\n",
    "    # mapping letters to integer values\n",
    "    demo_income_df = demo_df.withColumn(\n",
    "        \"income\",\n",
    "        when(col('income') == 'A', 10)\n",
    "        .when(col('income') == 'B', 11)\n",
    "        .when(col('income') == 'C', 12)\n",
    "        .when(col('income') == 'D', 13)\n",
    "        .otherwise(col('income').cast('int'))\n",
    "    )\n",
    "    \n",
    "    # calculating average income\n",
    "    income_avg = demo_income_df\\\n",
    "        .select(avg(col(\"income\")).alias('avg_income'))\\\n",
    "            .collect()[0]['avg_income']\n",
    "\n",
    "    # household and device are in ref_df\n",
    "    # household and income are in demo_income_df\n",
    "    # device_id and prog_code are in viewing10m_df\n",
    "    # filtering out by query requirements\n",
    "\n",
    "    bad_households = ref_df\\\n",
    "        .join(demo_income_df, \"household_id\")\\\n",
    "            .dropDuplicates([\"device_id\"])\\\n",
    "                .select('household_id', 'device_id', 'income')\\\n",
    "                    .filter(col(\"income\") < income_avg)\\\n",
    "                        .select('household_id', 'device_id')\\\n",
    "                            .groupBy('household_id')\\\n",
    "                                .count()\\\n",
    "                                    .orderBy(\"count\", ascending=False)\\\n",
    "                                        .filter(col(\"count\") > 3)\\\n",
    "\n",
    "    bad_devices = bad_households\\\n",
    "        .join(ref_df, on=\"household_id\", how=\"inner\")\\\n",
    "            .select('household_id', 'device_id')\\\n",
    "                .dropDuplicates([\"device_id\"])\n",
    "\n",
    "    prog_codes_6 = bad_devices\\\n",
    "        .join(viewing10m_df, on=\"device_id\", how=\"inner\")\\\n",
    "            .dropDuplicates([\"prog_code\"])\n",
    "\n",
    "    return prog_codes_6\n",
    "\n"
   ]
  },
  {
   "cell_type": "markdown",
   "metadata": {
    "application/vnd.databricks.v1+cell": {
     "cellMetadata": {},
     "inputWidgets": {},
     "nuid": "4c6ccb2d-b3a1-4d68-b758-33e0cb10c973",
     "showTitle": false,
     "title": ""
    }
   },
   "source": [
    "Query 7"
   ]
  },
  {
   "cell_type": "code",
   "execution_count": 0,
   "metadata": {
    "application/vnd.databricks.v1+cell": {
     "cellMetadata": {
      "byteLimit": 2048000,
      "rowLimit": 10000
     },
     "inputWidgets": {},
     "nuid": "f5b565c2-79e0-4be7-98e3-03d6d53230ed",
     "showTitle": false,
     "title": ""
    }
   },
   "outputs": [],
   "source": [
    "\n",
    "def q7():\n",
    "    \n",
    "    # cleaning df's\n",
    "    prog_cleaned = daily_prog_df\\\n",
    "        .dropDuplicates([\"prog_code\"])\\\n",
    "            .dropna(subset=[\"prog_code\", \"genre\"])\\\n",
    "                .select([\"prog_code\", \"genre\"])\n",
    "\n",
    "\n",
    "    genres_to_check = ['Hydroplane racing', 'Biathlon', 'Snowmobile', 'Community', 'Agriculture', 'Music']\n",
    "\n",
    "    # filtering according to requirements so that the program has at least one\n",
    "    # of the genres in the list above.\n",
    "    prog_codes_7 = prog_cleaned\\\n",
    "        .withColumn('genre',f.explode(f.split('genre',',')))\\\n",
    "            .withColumn('isBadGenre',f.col('genre').isin(genres_to_check))\\\n",
    "                .where(f.col('isBadGenre'))\\\n",
    "                    .dropDuplicates(['prog_code'])\\\n",
    "                        .select([\"prog_code\"])\n",
    "\n",
    "    return prog_codes_7                  \n"
   ]
  },
  {
   "cell_type": "code",
   "execution_count": 0,
   "metadata": {
    "application/vnd.databricks.v1+cell": {
     "cellMetadata": {
      "byteLimit": 2048000,
      "rowLimit": 10000
     },
     "inputWidgets": {},
     "nuid": "55363b48-357d-4ebb-8c21-e4b3f0af1948",
     "showTitle": false,
     "title": ""
    }
   },
   "outputs": [],
   "source": [
    "# Create a distinct dataframe of prog_codes\n",
    "prog_df = daily_prog_df.select([\"prog_code\"]).distinct().dropna()\n",
    "\n",
    "# Transformations for each query\n",
    "progs = [q1, q2, q3, q4, q5, q6, q7]\n",
    "\n",
    "result_df = prog_df\n",
    "\n",
    "for i, fun in enumerate(progs):\n",
    "    name_col = 'prog_codes_' + str(i + 1)\n",
    "\n",
    "    # Apply the transformation function to get a DataFrame with the condition\n",
    "    # such that 1 for that prog_code if in the transformation for the matching query\n",
    "    # otherwise 0\n",
    "    df = fun()\n",
    "    transformed_df = df.withColumn(name_col, f.lit(1))\n",
    "    result_df = result_df.join(transformed_df, \"prog_code\", \"left\")\n",
    "    \n",
    "    result_df = result_df.fillna({name_col: 0})\n",
    "\n",
    "# sum on each row to see for each record how many conditions it fufills\n",
    "sum_col = sum(f.col('prog_codes_' + str(i + 1)) for i in range(7))\n",
    "\n",
    "check = result_df\\\n",
    "    .dropDuplicates(['prog_code'])\\\n",
    "        .withColumn(\"malicious\", sum_col)\n",
    "result = daily_prog_df.join(check, \"prog_code\", \"inner\")"
   ]
  },
  {
   "cell_type": "code",
   "execution_count": 0,
   "metadata": {
    "application/vnd.databricks.v1+cell": {
     "cellMetadata": {
      "byteLimit": 2048000,
      "rowLimit": 10000
     },
     "inputWidgets": {},
     "nuid": "c13b6e70-898c-4546-86cd-4c78c2d507aa",
     "showTitle": false,
     "title": ""
    }
   },
   "outputs": [
    {
     "output_type": "stream",
     "name": "stdout",
     "output_type": "stream",
     "text": [
      "condition  1 : 118503\ncondition  2 : 5743890\ncondition  3 : 6132426\ncondition  4 : 10499146\ncondition  5 : 4569284\ncondition  6 : 8645709\ncondition  7 : 1348644\n"
     ]
    }
   ],
   "source": [
    "\n",
    "for i in range(7):\n",
    "    print(\"condition \", i+1, \":\", result.filter(f.col('prog_codes_'+str(i+1)) == 1).count())"
   ]
  },
  {
   "cell_type": "code",
   "execution_count": 0,
   "metadata": {
    "application/vnd.databricks.v1+cell": {
     "cellMetadata": {
      "byteLimit": 2048000,
      "rowLimit": 10000
     },
     "inputWidgets": {},
     "nuid": "2bc7f711-b04d-4022-bbbf-7729e3f51334",
     "showTitle": false,
     "title": ""
    }
   },
   "outputs": [
    {
     "output_type": "stream",
     "name": "stdout",
     "output_type": "stream",
     "text": [
      "Total amount of malicious records: 34108\n+--------------+---------+\n|prog_code     |malicious|\n+--------------+---------+\n|EP000000211576|4        |\n|EP000000211639|4        |\n|EP000000211645|5        |\n|EP000000211646|5        |\n|EP000000211647|4        |\n|EP000000211648|5        |\n|EP000000211649|4        |\n|EP000000211650|4        |\n|EP000000211654|4        |\n|EP000000211659|4        |\n|EP000000211661|4        |\n|EP000000211662|4        |\n|EP000000211665|4        |\n|EP000000211666|4        |\n|EP000000211667|4        |\n|EP000000211669|4        |\n|EP000000211670|4        |\n|EP000000211672|5        |\n|EP000000211676|5        |\n|EP000000211679|4        |\n|EP000000211680|5        |\n|EP000000211681|4        |\n|EP000000211682|4        |\n|EP000000211683|4        |\n|EP000000211684|4        |\n|EP000000211685|5        |\n|EP000000211686|4        |\n|EP000000211688|4        |\n|EP000000211689|4        |\n|EP000000211690|5        |\n|EP000000211691|4        |\n|EP000000211692|5        |\n|EP000000211694|5        |\n|EP000000211696|4        |\n|EP000000211698|4        |\n|EP000000260097|4        |\n|EP000000351218|4        |\n|EP000000351219|4        |\n|EP000000351223|4        |\n|EP000000351224|4        |\n|EP000000351225|4        |\n|EP000000351228|4        |\n|EP000000351230|4        |\n|EP000000351235|4        |\n|EP000000351240|4        |\n|EP000000351247|4        |\n|EP000000351250|4        |\n|EP000000351251|4        |\n|EP000000351254|4        |\n|EP000000351255|4        |\n+--------------+---------+\nonly showing top 50 rows\n\n"
     ]
    }
   ],
   "source": [
    "# filter out to find the malicious records\n",
    "malicious_records = result.filter(f.col(\"malicious\") >= 4)\\\n",
    "  .select(\"prog_code\", \"malicious\").dropDuplicates()\n",
    "\n",
    "print(f\"Total amount of malicious records: {malicious_records.count()}\")\n",
    "\n",
    "malicious_records.orderBy(col(\"prog_code\").asc()).show(50, truncate=False)\n"
   ]
  },
  {
   "cell_type": "code",
   "execution_count": 0,
   "metadata": {
    "application/vnd.databricks.v1+cell": {
     "cellMetadata": {
      "byteLimit": 2048000,
      "rowLimit": 10000
     },
     "inputWidgets": {},
     "nuid": "b589ab8f-fc85-435b-a89c-face74c3d2ee",
     "showTitle": false,
     "title": ""
    }
   },
   "outputs": [],
   "source": [
    "malicious_records.write.parquet(\"project1_part1_malicious_337604821_326922390\")"
   ]
  }
 ],
 "metadata": {
  "application/vnd.databricks.v1+notebook": {
   "dashboards": [],
   "environmentMetadata": null,
   "language": "python",
   "notebookMetadata": {
    "pythonIndentUnit": 4
   },
   "notebookName": "Spam Detection 1",
   "widgets": {}
  }
 },
 "nbformat": 4,
 "nbformat_minor": 0
}
