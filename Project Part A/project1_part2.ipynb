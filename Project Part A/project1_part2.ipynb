{
 "cells": [
  {
   "cell_type": "code",
   "execution_count": 0,
   "metadata": {
    "application/vnd.databricks.v1+cell": {
     "cellMetadata": {
      "byteLimit": 2048000,
      "rowLimit": 10000
     },
     "inputWidgets": {},
     "nuid": "fbb41fcd-92d1-4402-8d9b-d6b6a1d1fc10",
     "showTitle": false,
     "title": ""
    }
   },
   "outputs": [],
   "source": [
    "from pyspark.sql.types import *\n",
    "import pyspark.sql.functions as f\n",
    "\n",
    "from pyspark import SparkContext\n",
    "from pyspark.sql import SparkSession\n",
    " \n",
    "spark = SparkSession.builder.appName(\"DMA popularity - Project Part 1 - Section 2\").getOrCreate()\n",
    "sc = spark.sparkContext"
   ]
  },
  {
   "cell_type": "code",
   "execution_count": 0,
   "metadata": {
    "application/vnd.databricks.v1+cell": {
     "cellMetadata": {
      "byteLimit": 2048000,
      "rowLimit": 10000
     },
     "inputWidgets": {},
     "nuid": "2bd7080e-dbf9-431c-b17a-986476fc7c44",
     "showTitle": false,
     "title": ""
    }
   },
   "outputs": [],
   "source": [
    "# Read a CSV into a dataframe\n",
    "# There is a smarter version, that will first check if there is a Parquet file and use it\n",
    "def load_csv_file(filename, schema):\n",
    "  # Reads the relevant file from distributed file system using the given schema\n",
    "\n",
    "  allowed_files = {'Daily program data': ('Daily program data', \"|\"),\n",
    "                   'demographic': ('demographic', \"|\")}\n",
    "\n",
    "  if filename not in allowed_files.keys():\n",
    "    print(f'You were trying to access unknown file \\\"{filename}\\\". Only valid options are {allowed_files.keys()}')\n",
    "    return None\n",
    "\n",
    "  filepath = allowed_files[filename][0]\n",
    "  dataPath = f\"dbfs:/mnt/coursedata2024/fwm-stb-data/{filepath}\"\n",
    "  delimiter = allowed_files[filename][1]\n",
    "\n",
    "  df = spark.read.format(\"csv\")\\\n",
    "    .option(\"header\",\"false\")\\\n",
    "    .option(\"delimiter\",delimiter)\\\n",
    "    .schema(schema)\\\n",
    "    .load(dataPath)\n",
    "  return df\n",
    "\n",
    "# This dict holds the correct schemata for easily loading the CSVs\n",
    "schemas_dict = {'Daily program data':\n",
    "                  StructType([\n",
    "                    StructField('prog_code', StringType()),\n",
    "                    StructField('title', StringType()),\n",
    "                    StructField('genre', StringType()),\n",
    "                    StructField('air_date', StringType()),\n",
    "                    StructField('air_time', StringType()),\n",
    "                    StructField('Duration', FloatType())\n",
    "                  ]),\n",
    "                'viewing':\n",
    "                  StructType([\n",
    "                    StructField('device_id', StringType()),\n",
    "                    StructField('event_date', StringType()),\n",
    "                    StructField('event_time', IntegerType()),\n",
    "                    StructField('mso_code', StringType()),\n",
    "                    StructField('prog_code', StringType()),\n",
    "                    StructField('station_num', StringType())\n",
    "                  ]),\n",
    "                'viewing_full':\n",
    "                  StructType([\n",
    "                    StructField('mso_code', StringType()),\n",
    "                    StructField('device_id', StringType()),\n",
    "                    StructField('event_date', IntegerType()),\n",
    "                    StructField('event_time', IntegerType()),\n",
    "                    StructField('station_num', StringType()),\n",
    "                    StructField('prog_code', StringType())\n",
    "                  ]),\n",
    "                'demographic':\n",
    "                  StructType([StructField('household_id',StringType()),\n",
    "                    StructField('household_size',IntegerType()),\n",
    "                    StructField('num_adults',IntegerType()),\n",
    "                    StructField('num_generations',IntegerType()),\n",
    "                    StructField('adult_range',StringType()),\n",
    "                    StructField('marital_status',StringType()),\n",
    "                    StructField('race_code',StringType()),\n",
    "                    StructField('presence_children',StringType()),\n",
    "                    StructField('num_children',IntegerType()),\n",
    "                    StructField('age_children',StringType()), #format like range - 'bitwise'\n",
    "                    StructField('age_range_children',StringType()),\n",
    "                    StructField('dwelling_type',StringType()),\n",
    "                    StructField('home_owner_status',StringType()),\n",
    "                    StructField('length_residence',IntegerType()),\n",
    "                    StructField('home_market_value',StringType()),\n",
    "                    StructField('num_vehicles',IntegerType()),\n",
    "                    StructField('vehicle_make',StringType()),\n",
    "                    StructField('vehicle_model',StringType()),\n",
    "                    StructField('vehicle_year',IntegerType()),\n",
    "                    StructField('net_worth',IntegerType()),\n",
    "                    StructField('income',StringType()),\n",
    "                    StructField('gender_individual',StringType()),\n",
    "                    StructField('age_individual',IntegerType()),\n",
    "                    StructField('education_highest',StringType()),\n",
    "                    StructField('occupation_highest',StringType()),\n",
    "                    StructField('education_1',StringType()),\n",
    "                    StructField('occupation_1',StringType()),\n",
    "                    StructField('age_2',IntegerType()),\n",
    "                    StructField('education_2',StringType()),\n",
    "                    StructField('occupation_2',StringType()),\n",
    "                    StructField('age_3',IntegerType()),\n",
    "                    StructField('education_3',StringType()),\n",
    "                    StructField('occupation_3',StringType()),\n",
    "                    StructField('age_4',IntegerType()),\n",
    "                    StructField('education_4',StringType()),\n",
    "                    StructField('occupation_4',StringType()),\n",
    "                    StructField('age_5',IntegerType()),\n",
    "                    StructField('education_5',StringType()),\n",
    "                    StructField('occupation_5',StringType()),\n",
    "                    StructField('polit_party_regist',StringType()),\n",
    "                    StructField('polit_party_input',StringType()),\n",
    "                    StructField('household_clusters',StringType()),\n",
    "                    StructField('insurance_groups',StringType()),\n",
    "                    StructField('financial_groups',StringType()),\n",
    "                    StructField('green_living',StringType())\n",
    "                  ])\n",
    "}"
   ]
  },
  {
   "cell_type": "code",
   "execution_count": 0,
   "metadata": {
    "application/vnd.databricks.v1+cell": {
     "cellMetadata": {
      "byteLimit": 2048000,
      "rowLimit": 10000
     },
     "inputWidgets": {},
     "nuid": "86be4519-c42b-4041-bace-00f4f4970536",
     "showTitle": false,
     "title": ""
    }
   },
   "outputs": [
    {
     "name": "stdout",
     "output_type": "stream",
     "text": [
      "root\n",
      " |-- prog_code: string (nullable = true)\n",
      " |-- title: string (nullable = true)\n",
      " |-- genre: string (nullable = true)\n",
      " |-- air_date: string (nullable = true)\n",
      " |-- air_time: string (nullable = true)\n",
      " |-- Duration: float (nullable = true)\n",
      "\n",
      "daily_prog_df contains 13194849 records!\n"
     ]
    },
    {
     "data": {
      "text/html": [
       "<style scoped>\n",
       "  .table-result-container {\n",
       "    max-height: 300px;\n",
       "    overflow: auto;\n",
       "  }\n",
       "  table, th, td {\n",
       "    border: 1px solid black;\n",
       "    border-collapse: collapse;\n",
       "  }\n",
       "  th, td {\n",
       "    padding: 5px;\n",
       "  }\n",
       "  th {\n",
       "    text-align: left;\n",
       "  }\n",
       "</style><div class='table-result-container'><table class='table-result'><thead style='background-color: white'><tr><th>prog_code</th><th>title</th><th>genre</th><th>air_date</th><th>air_time</th><th>Duration</th></tr></thead><tbody><tr><td>EP000000250035</td><td>21 Jump Street</td><td>Crime drama</td><td>20151219</td><td>050000</td><td>60.0</td></tr><tr><td>EP000000250035</td><td>21 Jump Street</td><td>Crime drama</td><td>20151219</td><td>110000</td><td>60.0</td></tr><tr><td>EP000000250063</td><td>21 Jump Street</td><td>Crime drama</td><td>20151219</td><td>180000</td><td>60.0</td></tr><tr><td>EP000000510007</td><td>A Different World</td><td>Sitcom</td><td>20151219</td><td>100000</td><td>30.0</td></tr><tr><td>EP000000510008</td><td>A Different World</td><td>Sitcom</td><td>20151219</td><td>103000</td><td>30.0</td></tr><tr><td>EP000000510159</td><td>A Different World</td><td>Sitcom</td><td>20151219</td><td>080300</td><td>29.0</td></tr></tbody></table></div>"
      ]
     },
     "metadata": {
      "application/vnd.databricks.v1+output": {
       "addedWidgets": {},
       "aggData": [],
       "aggError": "",
       "aggOverflow": false,
       "aggSchema": [],
       "aggSeriesLimitReached": false,
       "aggType": "",
       "arguments": {},
       "columnCustomDisplayInfos": {},
       "data": [
        [
         "EP000000250035",
         "21 Jump Street",
         "Crime drama",
         "20151219",
         "050000",
         60.0
        ],
        [
         "EP000000250035",
         "21 Jump Street",
         "Crime drama",
         "20151219",
         "110000",
         60.0
        ],
        [
         "EP000000250063",
         "21 Jump Street",
         "Crime drama",
         "20151219",
         "180000",
         60.0
        ],
        [
         "EP000000510007",
         "A Different World",
         "Sitcom",
         "20151219",
         "100000",
         30.0
        ],
        [
         "EP000000510008",
         "A Different World",
         "Sitcom",
         "20151219",
         "103000",
         30.0
        ],
        [
         "EP000000510159",
         "A Different World",
         "Sitcom",
         "20151219",
         "080300",
         29.0
        ]
       ],
       "datasetInfos": [],
       "dbfsResultPath": null,
       "isJsonSchema": true,
       "metadata": {},
       "overflow": false,
       "plotOptions": {
        "customPlotOptions": {},
        "displayType": "table",
        "pivotAggregation": null,
        "pivotColumns": null,
        "xColumns": null,
        "yColumns": null
       },
       "removedWidgets": [],
       "schema": [
        {
         "metadata": "{}",
         "name": "prog_code",
         "type": "\"string\""
        },
        {
         "metadata": "{}",
         "name": "title",
         "type": "\"string\""
        },
        {
         "metadata": "{}",
         "name": "genre",
         "type": "\"string\""
        },
        {
         "metadata": "{}",
         "name": "air_date",
         "type": "\"string\""
        },
        {
         "metadata": "{}",
         "name": "air_time",
         "type": "\"string\""
        },
        {
         "metadata": "{}",
         "name": "Duration",
         "type": "\"float\""
        }
       ],
       "type": "table"
      }
     },
     "output_type": "display_data"
    },
    {
     "name": "stdout",
     "output_type": "stream",
     "text": [
      "CPU times: user 109 ms, sys: 9.38 ms, total: 118 ms\n",
      "Wall time: 11 s\n"
     ]
    }
   ],
   "source": [
    "%%time\n",
    "# daily_program data filename is 'Daily program data'\n",
    "daily_prog_df = load_csv_file('Daily program data', schemas_dict['Daily program data'])\n",
    "\n",
    "daily_prog_df.printSchema()\n",
    "print(f'daily_prog_df contains {daily_prog_df.count()} records!')\n",
    "display(daily_prog_df.limit(6))"
   ]
  },
  {
   "cell_type": "code",
   "execution_count": 0,
   "metadata": {
    "application/vnd.databricks.v1+cell": {
     "cellMetadata": {
      "byteLimit": 2048000,
      "rowLimit": 10000
     },
     "inputWidgets": {},
     "nuid": "d3a83cbe-e489-4b02-a855-36d4e9e397f0",
     "showTitle": false,
     "title": ""
    }
   },
   "outputs": [
    {
     "name": "stdout",
     "output_type": "stream",
     "text": [
      "root\n",
      " |-- device_id: string (nullable = true)\n",
      " |-- dma: string (nullable = true)\n",
      " |-- dma_code: long (nullable = true)\n",
      " |-- household_id: long (nullable = true)\n",
      " |-- household_type: string (nullable = true)\n",
      " |-- system_type: string (nullable = true)\n",
      " |-- zipcode: long (nullable = true)\n",
      "\n",
      "ref_df contains 1268071 records!\n"
     ]
    },
    {
     "data": {
      "text/html": [
       "<style scoped>\n",
       "  .table-result-container {\n",
       "    max-height: 300px;\n",
       "    overflow: auto;\n",
       "  }\n",
       "  table, th, td {\n",
       "    border: 1px solid black;\n",
       "    border-collapse: collapse;\n",
       "  }\n",
       "  th, td {\n",
       "    padding: 5px;\n",
       "  }\n",
       "  th {\n",
       "    text-align: left;\n",
       "  }\n",
       "</style><div class='table-result-container'><table class='table-result'><thead style='background-color: white'><tr><th>device_id</th><th>dma</th><th>dma_code</th><th>household_id</th><th>household_type</th><th>system_type</th><th>zipcode</th></tr></thead><tbody><tr><td>00000113498f</td><td>Toledo</td><td>547</td><td>1470605</td><td>FWM-ID</td><td>H</td><td>43460</td></tr><tr><td>12bf0065bad0</td><td>Toledo</td><td>547</td><td>1492575</td><td>FWM-ID</td><td>H</td><td>43460</td></tr><tr><td>000000797c1d</td><td>Toledo</td><td>547</td><td>1493317</td><td>FWM-ID</td><td>H</td><td>43460</td></tr><tr><td>000002de361c</td><td>Toledo</td><td>547</td><td>1446566</td><td>FWM-ID</td><td>H</td><td>43528</td></tr><tr><td>0000026360a2</td><td>Toledo</td><td>547</td><td>1467668</td><td>FWM-ID</td><td>H</td><td>43528</td></tr><tr><td>00000071622f</td><td>Toledo</td><td>547</td><td>1519598</td><td>FWM-ID</td><td>H</td><td>43528</td></tr></tbody></table></div>"
      ]
     },
     "metadata": {
      "application/vnd.databricks.v1+output": {
       "addedWidgets": {},
       "aggData": [],
       "aggError": "",
       "aggOverflow": false,
       "aggSchema": [],
       "aggSeriesLimitReached": false,
       "aggType": "",
       "arguments": {},
       "columnCustomDisplayInfos": {},
       "data": [
        [
         "00000113498f",
         "Toledo",
         547,
         1470605,
         "FWM-ID",
         "H",
         43460
        ],
        [
         "12bf0065bad0",
         "Toledo",
         547,
         1492575,
         "FWM-ID",
         "H",
         43460
        ],
        [
         "000000797c1d",
         "Toledo",
         547,
         1493317,
         "FWM-ID",
         "H",
         43460
        ],
        [
         "000002de361c",
         "Toledo",
         547,
         1446566,
         "FWM-ID",
         "H",
         43528
        ],
        [
         "0000026360a2",
         "Toledo",
         547,
         1467668,
         "FWM-ID",
         "H",
         43528
        ],
        [
         "00000071622f",
         "Toledo",
         547,
         1519598,
         "FWM-ID",
         "H",
         43528
        ]
       ],
       "datasetInfos": [],
       "dbfsResultPath": null,
       "isJsonSchema": true,
       "metadata": {},
       "overflow": false,
       "plotOptions": {
        "customPlotOptions": {},
        "displayType": "table",
        "pivotAggregation": null,
        "pivotColumns": null,
        "xColumns": null,
        "yColumns": null
       },
       "removedWidgets": [],
       "schema": [
        {
         "metadata": "{}",
         "name": "device_id",
         "type": "\"string\""
        },
        {
         "metadata": "{}",
         "name": "dma",
         "type": "\"string\""
        },
        {
         "metadata": "{}",
         "name": "dma_code",
         "type": "\"long\""
        },
        {
         "metadata": "{}",
         "name": "household_id",
         "type": "\"long\""
        },
        {
         "metadata": "{}",
         "name": "household_type",
         "type": "\"string\""
        },
        {
         "metadata": "{}",
         "name": "system_type",
         "type": "\"string\""
        },
        {
         "metadata": "{}",
         "name": "zipcode",
         "type": "\"long\""
        }
       ],
       "type": "table"
      }
     },
     "output_type": "display_data"
    },
    {
     "name": "stdout",
     "output_type": "stream",
     "text": [
      "CPU times: user 10.2 ms, sys: 458 µs, total: 10.6 ms\n",
      "Wall time: 868 ms\n"
     ]
    }
   ],
   "source": [
    "%%time\n",
    "# reference data is stored in parquet for your convinence.\n",
    "\n",
    "ref_df = spark.read.parquet('dbfs:/refxml_new_parquet')\n",
    "\n",
    "ref_df.printSchema()\n",
    "print(f'ref_df contains {ref_df.count()} records!')\n",
    "display(ref_df.limit(6))"
   ]
  },
  {
   "cell_type": "code",
   "execution_count": 0,
   "metadata": {
    "application/vnd.databricks.v1+cell": {
     "cellMetadata": {
      "byteLimit": 2048000,
      "rowLimit": 10000
     },
     "inputWidgets": {},
     "nuid": "a9f9fb3f-687f-4e9c-8fa3-5ec4e05156e0",
     "showTitle": false,
     "title": ""
    }
   },
   "outputs": [
    {
     "data": {
      "text/html": [
       "<style scoped>\n",
       "  .table-result-container {\n",
       "    max-height: 300px;\n",
       "    overflow: auto;\n",
       "  }\n",
       "  table, th, td {\n",
       "    border: 1px solid black;\n",
       "    border-collapse: collapse;\n",
       "  }\n",
       "  th, td {\n",
       "    padding: 5px;\n",
       "  }\n",
       "  th {\n",
       "    text-align: left;\n",
       "  }\n",
       "</style><div class='table-result-container'><table class='table-result'><thead style='background-color: white'><tr><th>mso_code</th><th>device_id</th><th>event_date</th><th>event_time</th><th>station_num</th><th>prog_code</th></tr></thead><tbody><tr><td>01540</td><td>000000033afa</td><td>20151101</td><td>33000</td><td>67375</td><td>EP020820940009</td></tr><tr><td>01540</td><td>00000004e4b6</td><td>20151101</td><td>93000</td><td>42599</td><td>SP003189620000</td></tr><tr><td>01540</td><td>00000004eb8f</td><td>20151101</td><td>91856</td><td>42642</td><td>EP000176170270</td></tr><tr><td>01540</td><td>00000004f1d6</td><td>20151101</td><td>90206</td><td>68827</td><td>EP007961190099</td></tr><tr><td>01540</td><td>00000004f3c0</td><td>20151101</td><td>160658</td><td>10178</td><td>MV000259670000</td></tr><tr><td>01540</td><td>000000051ca0</td><td>20151101</td><td>174949</td><td>32645</td><td>EP001786120664</td></tr></tbody></table></div>"
      ]
     },
     "metadata": {
      "application/vnd.databricks.v1+output": {
       "addedWidgets": {},
       "aggData": [],
       "aggError": "",
       "aggOverflow": false,
       "aggSchema": [],
       "aggSeriesLimitReached": false,
       "aggType": "",
       "arguments": {},
       "columnCustomDisplayInfos": {},
       "data": [
        [
         "01540",
         "000000033afa",
         20151101,
         33000,
         "67375",
         "EP020820940009"
        ],
        [
         "01540",
         "00000004e4b6",
         20151101,
         93000,
         "42599",
         "SP003189620000"
        ],
        [
         "01540",
         "00000004eb8f",
         20151101,
         91856,
         "42642",
         "EP000176170270"
        ],
        [
         "01540",
         "00000004f1d6",
         20151101,
         90206,
         "68827",
         "EP007961190099"
        ],
        [
         "01540",
         "00000004f3c0",
         20151101,
         160658,
         "10178",
         "MV000259670000"
        ],
        [
         "01540",
         "000000051ca0",
         20151101,
         174949,
         "32645",
         "EP001786120664"
        ]
       ],
       "datasetInfos": [],
       "dbfsResultPath": null,
       "isJsonSchema": true,
       "metadata": {},
       "overflow": false,
       "plotOptions": {
        "customPlotOptions": {},
        "displayType": "table",
        "pivotAggregation": null,
        "pivotColumns": null,
        "xColumns": null,
        "yColumns": null
       },
       "removedWidgets": [],
       "schema": [
        {
         "metadata": "{}",
         "name": "mso_code",
         "type": "\"string\""
        },
        {
         "metadata": "{}",
         "name": "device_id",
         "type": "\"string\""
        },
        {
         "metadata": "{}",
         "name": "event_date",
         "type": "\"integer\""
        },
        {
         "metadata": "{}",
         "name": "event_time",
         "type": "\"integer\""
        },
        {
         "metadata": "{}",
         "name": "station_num",
         "type": "\"string\""
        },
        {
         "metadata": "{}",
         "name": "prog_code",
         "type": "\"string\""
        }
       ],
       "type": "table"
      }
     },
     "output_type": "display_data"
    },
    {
     "name": "stdout",
     "output_type": "stream",
     "text": [
      "viewing10m_df contains 10042340 rows!\n"
     ]
    }
   ],
   "source": [
    "# Sample of 10 Million viewing entries\n",
    "\n",
    "dataPath = f\"dbfs:/viewing_10M\"\n",
    "viewing10m_df = spark.read.format(\"csv\")\\\n",
    "    .option(\"header\",\"true\")\\\n",
    "    .option(\"delimiter\",\",\")\\\n",
    "    .schema(schemas_dict['viewing_full'])\\\n",
    "    .load(dataPath)\n",
    "\n",
    "display(viewing10m_df.limit(6))\n",
    "print(f'viewing10m_df contains {viewing10m_df.count()} rows!')"
   ]
  },
  {
   "cell_type": "markdown",
   "metadata": {
    "application/vnd.databricks.v1+cell": {
     "cellMetadata": {
      "byteLimit": 2048000,
      "rowLimit": 10000
     },
     "inputWidgets": {},
     "nuid": "20350cf4-cd03-4d54-a59a-f51a77aae4a8",
     "showTitle": false,
     "title": ""
    }
   },
   "source": [
    "# Question 2"
   ]
  },
  {
   "cell_type": "markdown",
   "metadata": {
    "application/vnd.databricks.v1+cell": {
     "cellMetadata": {
      "byteLimit": 2048000,
      "rowLimit": 10000
     },
     "inputWidgets": {},
     "nuid": "35c60403-8cf1-44ce-9dbf-9a0e72da280e",
     "showTitle": false,
     "title": ""
    }
   },
   "source": [
    "## 2.1"
   ]
  },
  {
   "cell_type": "code",
   "execution_count": 0,
   "metadata": {
    "application/vnd.databricks.v1+cell": {
     "cellMetadata": {
      "byteLimit": 2048000,
      "rowLimit": 10000
     },
     "inputWidgets": {},
     "nuid": "82ce9cbf-2b88-42a2-9bbe-e6ae547c4d76",
     "showTitle": false,
     "title": ""
    }
   },
   "outputs": [],
   "source": [
    "from pyspark.sql.functions import count, col, desc, sum\n",
    "\n",
    "# clean df's\n",
    "reference_data = ref_df\\\n",
    "    .dropDuplicates(['device_id'])\\\n",
    "        .dropna(subset=[\"device_id\", \"DMA\"])\\\n",
    "            .select('device_id', 'DMA')\\\n",
    "                .filter(col(\"DMA\") != \"Unknown\")\n",
    "\n",
    "\n",
    "viewing_data = viewing10m_df\\\n",
    "    .dropDuplicates()\\\n",
    "        .dropna(subset=[\"device_id\", \"prog_code\"])\\\n",
    "            .select([\"device_id\", \"prog_code\"])\n",
    "\n",
    "daily_data = daily_prog_df\\\n",
    "    .dropDuplicates()\\\n",
    "        .dropna(subset=[\"genre\", \"prog_code\"])\\\n",
    "            .select([\"genre\", \"prog_code\"])\n",
    "\n",
    "viewing_with_dma = viewing_data\\\n",
    "    .join(reference_data, \"device_id\")\\\n",
    "        .select(\"DMA\", \"device_id\", \"prog_code\")\n",
    "\n",
    "# Get the top 10 DMAs by unique device count\n",
    "top_dmas = reference_data\\\n",
    "    .groupBy(\"DMA\")\\\n",
    "        .count()\\\n",
    "            .orderBy(\"count\",ascending=False)\\\n",
    "                .limit(10)\n",
    "            \n",
    "# top 10 DMAs into a list\n",
    "top_dmas_list = top_dmas.select('DMA')\n"
   ]
  },
  {
   "cell_type": "code",
   "execution_count": 0,
   "metadata": {
    "application/vnd.databricks.v1+cell": {
     "cellMetadata": {
      "byteLimit": 2048000,
      "rowLimit": 10000
     },
     "inputWidgets": {},
     "nuid": "b8eb92c2-8197-4d2e-8b05-4c362e8c6457",
     "showTitle": false,
     "title": ""
    }
   },
   "outputs": [],
   "source": [
    "# clean df's and take subset attributes that are relevant to the question\n",
    "all_viewings = viewing10m_df\\\n",
    "    .dropDuplicates()\\\n",
    "        .dropna(subset=[\"device_id\", \"prog_code\", \"event_date\", \"event_time\"])\\\n",
    "            .select([\"device_id\", \"prog_code\", \"event_date\", \"event_time\"])\n",
    "\n",
    "top_10_dma_with_genres = top_dmas_list\\\n",
    "    .join(reference_data, \"DMA\")\\\n",
    "        .join(all_viewings, \"device_id\")\\\n",
    "            .join(daily_data, \"prog_code\")\\\n",
    "                .dropDuplicates()\\\n",
    "                    .dropna(subset=[\"DMA\", \"genre\", \"event_date\", \"event_time\"])\\\n",
    "                        .select([\"DMA\", \"genre\", \"event_date\", \"event_time\"])\n",
    "\n",
    "# explode Genres to their matching DMA \n",
    "top_10_dma_with_splitted_genres = top_10_dma_with_genres\\\n",
    "    .withColumn('genre', f.explode(f.split('genre',',')))\n",
    "\n",
    "dma_results = []\n",
    "\n",
    "# Iterate ofver the top DMA's and calculate the popularity for each genre\n",
    "for dma_row in top_dmas_list.rdd.toLocalIterator():\n",
    "    dma = dma_row[\"DMA\"]\n",
    "    current_dma_genres = top_10_dma_with_splitted_genres\\\n",
    "        .filter(top_10_dma_with_splitted_genres.DMA == dma)\\\n",
    "            .groupBy(\"genre\")\\\n",
    "                .count()\\\n",
    "                    .orderBy(\"count\",ascending=False)\n",
    "    dma_results.append((dma, current_dma_genres))\n"
   ]
  },
  {
   "cell_type": "markdown",
   "metadata": {
    "application/vnd.databricks.v1+cell": {
     "cellMetadata": {
      "byteLimit": 2048000,
      "rowLimit": 10000
     },
     "inputWidgets": {},
     "nuid": "d6fe32e5-7ea7-4d10-997d-ea9b4efae803",
     "showTitle": false,
     "title": ""
    }
   },
   "source": [
    "Top 10 Genres for 1,5,9-th by DMA size  "
   ]
  },
  {
   "cell_type": "markdown",
   "metadata": {
    "application/vnd.databricks.v1+cell": {
     "cellMetadata": {},
     "inputWidgets": {},
     "nuid": "b73c1ade-3983-4c1e-aa77-bd278e622a41",
     "showTitle": false,
     "title": ""
    }
   },
   "source": []
  },
  {
   "cell_type": "code",
   "execution_count": 0,
   "metadata": {
    "application/vnd.databricks.v1+cell": {
     "cellMetadata": {
      "byteLimit": 2048000,
      "rowLimit": 10000
     },
     "inputWidgets": {},
     "nuid": "01b4fbd1-f626-44e2-9a5c-5046d095f398",
     "showTitle": false,
     "title": ""
    }
   },
   "outputs": [
    {
     "name": "stdout",
     "output_type": "stream",
     "text": [
      "Looking at DMA - Wilkes Barre-Scranton-Hztn\n",
      "+-----------+-----+\n",
      "|genre      |count|\n",
      "+-----------+-----+\n",
      "|News       |48754|\n",
      "|Reality    |45432|\n",
      "|Sitcom     |28218|\n",
      "|Talk       |25046|\n",
      "|Comedy     |23830|\n",
      "|Crime drama|21192|\n",
      "|Documentary|20894|\n",
      "|Drama      |20604|\n",
      "|Children   |20596|\n",
      "|Action     |18877|\n",
      "+-----------+-----+\n",
      "only showing top 10 rows\n",
      "\n",
      "Looking at DMA - Washington, DC (Hagrstwn)\n",
      "+-----------+-----+\n",
      "|genre      |count|\n",
      "+-----------+-----+\n",
      "|Reality    |14795|\n",
      "|News       |12619|\n",
      "|Sitcom     |9916 |\n",
      "|Comedy     |8550 |\n",
      "|Children   |7514 |\n",
      "|Drama      |7337 |\n",
      "|Talk       |7058 |\n",
      "|Animated   |6543 |\n",
      "|Documentary|6298 |\n",
      "|Adventure  |6130 |\n",
      "+-----------+-----+\n",
      "only showing top 10 rows\n",
      "\n",
      "Looking at DMA - Bend, OR\n",
      "+------------+-----+\n",
      "|genre       |count|\n",
      "+------------+-----+\n",
      "|News        |23612|\n",
      "|Reality     |20220|\n",
      "|Talk        |14944|\n",
      "|Sitcom      |13122|\n",
      "|Comedy      |10516|\n",
      "|Documentary |8462 |\n",
      "|Crime drama |8070 |\n",
      "|Sports event|7907 |\n",
      "|Children    |7789 |\n",
      "|Drama       |7707 |\n",
      "+------------+-----+\n",
      "only showing top 10 rows\n",
      "\n"
     ]
    }
   ],
   "source": [
    "# showing top 10 genres for 1, 5, 9th dma results by popularity\n",
    "for i, (dma, result_df) in enumerate(dma_results):\n",
    "    if i in [0, 4, 8]:\n",
    "        print(f\"Looking at DMA - {dma}\")\n",
    "        result_df.show(10, truncate=False)"
   ]
  },
  {
   "cell_type": "code",
   "execution_count": 0,
   "metadata": {
    "application/vnd.databricks.v1+cell": {
     "cellMetadata": {
      "byteLimit": 2048000,
      "rowLimit": 10000
     },
     "inputWidgets": {},
     "nuid": "123130dc-427e-4272-a532-95e1e3de64e8",
     "showTitle": false,
     "title": ""
    }
   },
   "outputs": [
    {
     "name": "stdout",
     "output_type": "stream",
     "text": [
      "Wilkes Barre-Scranton-Hztn\n",
      "Saved DataFrame to project1_part21_wilkes_barre-scranton-hztn_337604821_326922390.csv\n",
      "Charleston-Huntington\n",
      "Saved DataFrame to project1_part21_charleston-huntington_337604821_326922390.csv\n",
      "Seattle-Tacoma\n",
      "Saved DataFrame to project1_part21_seattle-tacoma_337604821_326922390.csv\n",
      "Little Rock-Pine Bluff\n",
      "Saved DataFrame to project1_part21_little_rock-pine_bluff_337604821_326922390.csv\n",
      "Washington, DC (Hagrstwn)\n",
      "Saved DataFrame to project1_part21_washington,_dc_(hagrstwn)_337604821_326922390.csv\n",
      "Toledo\n",
      "Saved DataFrame to project1_part21_toledo_337604821_326922390.csv\n",
      "Amarillo\n",
      "Saved DataFrame to project1_part21_amarillo_337604821_326922390.csv\n",
      "Greenville-N.Bern-Washngtn\n",
      "Saved DataFrame to project1_part21_greenville-n.bern-washngtn_337604821_326922390.csv\n",
      "Bend, OR\n",
      "Saved DataFrame to project1_part21_bend,_or_337604821_326922390.csv\n",
      "Lubbock\n",
      "Saved DataFrame to project1_part21_lubbock_337604821_326922390.csv\n"
     ]
    }
   ],
   "source": [
    "for i, (dma_name, result_df) in enumerate(dma_results):\n",
    "    print(dma_name)\n",
    "    file_name = f\"project1_part21_{dma_name.replace(' ', '_').lower()}_337604821_326922390.csv\"\n",
    "    result_df.write.format(\"csv\").option(\"header\", \"true\").mode(\"overwrite\").save(file_name)\n",
    "    print(f\"Saved DataFrame to {file_name}\")\n"
   ]
  },
  {
   "cell_type": "code",
   "execution_count": 0,
   "metadata": {
    "application/vnd.databricks.v1+cell": {
     "cellMetadata": {
      "byteLimit": 2048000,
      "rowLimit": 10000
     },
     "inputWidgets": {},
     "nuid": "eeeb99c5-bfa3-4ccb-9b4c-e907d606d62f",
     "showTitle": false,
     "title": ""
    }
   },
   "outputs": [],
   "source": [
    "from pyspark.sql.types import *\n",
    "import pyspark.sql.functions as f\n",
    "\n",
    "from pyspark import SparkContext\n",
    "from pyspark.sql import SparkSession\n",
    " \n",
    "spark = SparkSession.builder.appName(\"my_project_1\").getOrCreate()\n",
    "sc = spark.sparkContext"
   ]
  },
  {
   "cell_type": "code",
   "execution_count": 0,
   "metadata": {
    "application/vnd.databricks.v1+cell": {
     "cellMetadata": {
      "byteLimit": 2048000,
      "rowLimit": 10000
     },
     "inputWidgets": {},
     "nuid": "0c295469-4365-4bae-bbe7-8d8cfc372cae",
     "showTitle": false,
     "title": ""
    }
   },
   "outputs": [],
   "source": [
    "# Read a CSV into a dataframe\n",
    "# There is a smarter version, that will first check if there is a Parquet file and use it\n",
    "def load_csv_file(filename, schema):\n",
    "  # Reads the relevant file from distributed file system using the given schema\n",
    "\n",
    "  allowed_files = {'Daily program data': ('Daily program data', \"|\"),\n",
    "                   'demographic': ('demographic', \"|\")}\n",
    "\n",
    "  if filename not in allowed_files.keys():\n",
    "    print(f'You were trying to access unknown file \\\"{filename}\\\". Only valid options are {allowed_files.keys()}')\n",
    "    return None\n",
    "\n",
    "  filepath = allowed_files[filename][0]\n",
    "  dataPath = f\"dbfs:/mnt/coursedata2024/fwm-stb-data/{filepath}\"\n",
    "  delimiter = allowed_files[filename][1]\n",
    "\n",
    "  df = spark.read.format(\"csv\")\\\n",
    "    .option(\"header\",\"false\")\\\n",
    "    .option(\"delimiter\",delimiter)\\\n",
    "    .schema(schema)\\\n",
    "    .load(dataPath)\n",
    "  return df\n",
    "\n",
    "# This dict holds the correct schemata for easily loading the CSVs\n",
    "schemas_dict = {'Daily program data':\n",
    "                  StructType([\n",
    "                    StructField('prog_code', StringType()),\n",
    "                    StructField('title', StringType()),\n",
    "                    StructField('genre', StringType()),\n",
    "                    StructField('air_date', StringType()),\n",
    "                    StructField('air_time', StringType()),\n",
    "                    StructField('Duration', FloatType())\n",
    "                  ]),\n",
    "                'viewing':\n",
    "                  StructType([\n",
    "                    StructField('device_id', StringType()),\n",
    "                    StructField('event_date', StringType()),\n",
    "                    StructField('event_time', IntegerType()),\n",
    "                    StructField('mso_code', StringType()),\n",
    "                    StructField('prog_code', StringType()),\n",
    "                    StructField('station_num', StringType())\n",
    "                  ]),\n",
    "                'viewing_full':\n",
    "                  StructType([\n",
    "                    StructField('mso_code', StringType()),\n",
    "                    StructField('device_id', StringType()),\n",
    "                    StructField('event_date', IntegerType()),\n",
    "                    StructField('event_time', IntegerType()),\n",
    "                    StructField('station_num', StringType()),\n",
    "                    StructField('prog_code', StringType())\n",
    "                  ]),\n",
    "                'demographic':\n",
    "                  StructType([StructField('household_id',StringType()),\n",
    "                    StructField('household_size',IntegerType()),\n",
    "                    StructField('num_adults',IntegerType()),\n",
    "                    StructField('num_generations',IntegerType()),\n",
    "                    StructField('adult_range',StringType()),\n",
    "                    StructField('marital_status',StringType()),\n",
    "                    StructField('race_code',StringType()),\n",
    "                    StructField('presence_children',StringType()),\n",
    "                    StructField('num_children',IntegerType()),\n",
    "                    StructField('age_children',StringType()), #format like range - 'bitwise'\n",
    "                    StructField('age_range_children',StringType()),\n",
    "                    StructField('dwelling_type',StringType()),\n",
    "                    StructField('home_owner_status',StringType()),\n",
    "                    StructField('length_residence',IntegerType()),\n",
    "                    StructField('home_market_value',StringType()),\n",
    "                    StructField('num_vehicles',IntegerType()),\n",
    "                    StructField('vehicle_make',StringType()),\n",
    "                    StructField('vehicle_model',StringType()),\n",
    "                    StructField('vehicle_year',IntegerType()),\n",
    "                    StructField('net_worth',IntegerType()),\n",
    "                    StructField('income',StringType()),\n",
    "                    StructField('gender_individual',StringType()),\n",
    "                    StructField('age_individual',IntegerType()),\n",
    "                    StructField('education_highest',StringType()),\n",
    "                    StructField('occupation_highest',StringType()),\n",
    "                    StructField('education_1',StringType()),\n",
    "                    StructField('occupation_1',StringType()),\n",
    "                    StructField('age_2',IntegerType()),\n",
    "                    StructField('education_2',StringType()),\n",
    "                    StructField('occupation_2',StringType()),\n",
    "                    StructField('age_3',IntegerType()),\n",
    "                    StructField('education_3',StringType()),\n",
    "                    StructField('occupation_3',StringType()),\n",
    "                    StructField('age_4',IntegerType()),\n",
    "                    StructField('education_4',StringType()),\n",
    "                    StructField('occupation_4',StringType()),\n",
    "                    StructField('age_5',IntegerType()),\n",
    "                    StructField('education_5',StringType()),\n",
    "                    StructField('occupation_5',StringType()),\n",
    "                    StructField('polit_party_regist',StringType()),\n",
    "                    StructField('polit_party_input',StringType()),\n",
    "                    StructField('household_clusters',StringType()),\n",
    "                    StructField('insurance_groups',StringType()),\n",
    "                    StructField('financial_groups',StringType()),\n",
    "                    StructField('green_living',StringType())\n",
    "                  ])\n",
    "}"
   ]
  },
  {
   "cell_type": "code",
   "execution_count": 0,
   "metadata": {
    "application/vnd.databricks.v1+cell": {
     "cellMetadata": {
      "byteLimit": 2048000,
      "rowLimit": 10000
     },
     "inputWidgets": {},
     "nuid": "ebfbe35e-e614-420d-aee5-0a76f22affbf",
     "showTitle": false,
     "title": ""
    }
   },
   "outputs": [
    {
     "name": "stdout",
     "output_type": "stream",
     "text": [
      "root\n",
      " |-- household_id: string (nullable = true)\n",
      " |-- household_size: integer (nullable = true)\n",
      " |-- num_adults: integer (nullable = true)\n",
      " |-- num_generations: integer (nullable = true)\n",
      " |-- adult_range: string (nullable = true)\n",
      " |-- marital_status: string (nullable = true)\n",
      " |-- race_code: string (nullable = true)\n",
      " |-- presence_children: string (nullable = true)\n",
      " |-- num_children: integer (nullable = true)\n",
      " |-- age_children: string (nullable = true)\n",
      " |-- age_range_children: string (nullable = true)\n",
      " |-- dwelling_type: string (nullable = true)\n",
      " |-- home_owner_status: string (nullable = true)\n",
      " |-- length_residence: integer (nullable = true)\n",
      " |-- home_market_value: string (nullable = true)\n",
      " |-- num_vehicles: integer (nullable = true)\n",
      " |-- vehicle_make: string (nullable = true)\n",
      " |-- vehicle_model: string (nullable = true)\n",
      " |-- vehicle_year: integer (nullable = true)\n",
      " |-- net_worth: integer (nullable = true)\n",
      " |-- income: string (nullable = true)\n",
      " |-- gender_individual: string (nullable = true)\n",
      " |-- age_individual: integer (nullable = true)\n",
      " |-- education_highest: string (nullable = true)\n",
      " |-- occupation_highest: string (nullable = true)\n",
      " |-- education_1: string (nullable = true)\n",
      " |-- occupation_1: string (nullable = true)\n",
      " |-- age_2: integer (nullable = true)\n",
      " |-- education_2: string (nullable = true)\n",
      " |-- occupation_2: string (nullable = true)\n",
      " |-- age_3: integer (nullable = true)\n",
      " |-- education_3: string (nullable = true)\n",
      " |-- occupation_3: string (nullable = true)\n",
      " |-- age_4: integer (nullable = true)\n",
      " |-- education_4: string (nullable = true)\n",
      " |-- occupation_4: string (nullable = true)\n",
      " |-- age_5: integer (nullable = true)\n",
      " |-- education_5: string (nullable = true)\n",
      " |-- occupation_5: string (nullable = true)\n",
      " |-- polit_party_regist: string (nullable = true)\n",
      " |-- polit_party_input: string (nullable = true)\n",
      " |-- household_clusters: string (nullable = true)\n",
      " |-- insurance_groups: string (nullable = true)\n",
      " |-- financial_groups: string (nullable = true)\n",
      " |-- green_living: string (nullable = true)\n",
      "\n",
      "demo_df contains 357721 records!\n"
     ]
    },
    {
     "data": {
      "text/html": [
       "<style scoped>\n",
       "  .table-result-container {\n",
       "    max-height: 300px;\n",
       "    overflow: auto;\n",
       "  }\n",
       "  table, th, td {\n",
       "    border: 1px solid black;\n",
       "    border-collapse: collapse;\n",
       "  }\n",
       "  th, td {\n",
       "    padding: 5px;\n",
       "  }\n",
       "  th {\n",
       "    text-align: left;\n",
       "  }\n",
       "</style><div class='table-result-container'><table class='table-result'><thead style='background-color: white'><tr><th>household_id</th><th>household_size</th><th>num_adults</th><th>num_generations</th><th>adult_range</th><th>marital_status</th><th>race_code</th><th>presence_children</th><th>num_children</th><th>age_children</th><th>age_range_children</th><th>dwelling_type</th><th>home_owner_status</th><th>length_residence</th><th>home_market_value</th><th>num_vehicles</th><th>vehicle_make</th><th>vehicle_model</th><th>vehicle_year</th><th>net_worth</th><th>income</th><th>gender_individual</th><th>age_individual</th><th>education_highest</th><th>occupation_highest</th><th>education_1</th><th>occupation_1</th><th>age_2</th><th>education_2</th><th>occupation_2</th><th>age_3</th><th>education_3</th><th>occupation_3</th><th>age_4</th><th>education_4</th><th>occupation_4</th><th>age_5</th><th>education_5</th><th>occupation_5</th><th>polit_party_regist</th><th>polit_party_input</th><th>household_clusters</th><th>insurance_groups</th><th>financial_groups</th><th>green_living</th></tr></thead><tbody><tr><td>00000015</td><td>2</td><td>2</td><td>1</td><td>000000000000100000000</td><td>S</td><td>B</td><td>null</td><td>null</td><td>0000000000000000000</td><td>000000000000000</td><td>S</td><td>O</td><td>5</td><td>E</td><td>null</td><td>null</td><td>null</td><td>null</td><td>6</td><td>4</td><td>M</td><td>60</td><td>4</td><td>null</td><td>null</td><td>null</td><td>null</td><td>null</td><td>null</td><td>null</td><td>null</td><td>null</td><td>null</td><td>null</td><td>null</td><td>null</td><td>null</td><td>null</td><td>null</td><td>D</td><td>443</td><td>02C3</td><td>08C3</td><td>null</td></tr><tr><td>00000024</td><td>2</td><td>2</td><td>1</td><td>000000000100000000000</td><td>null</td><td>W</td><td>null</td><td>null</td><td>0000000000000000000</td><td>000000000000000</td><td>M</td><td>O</td><td>null</td><td>F</td><td>null</td><td>null</td><td>null</td><td>null</td><td>7</td><td>7</td><td>F</td><td>46</td><td>3</td><td>Z</td><td>null</td><td>null</td><td>null</td><td>null</td><td>null</td><td>null</td><td>null</td><td>null</td><td>null</td><td>null</td><td>null</td><td>null</td><td>null</td><td>null</td><td>null</td><td>R</td><td>223</td><td>09O3</td><td>03O3</td><td>null</td></tr><tr><td>00000026</td><td>null</td><td>null</td><td>null</td><td>000000000000000000000</td><td>null</td><td>null</td><td>null</td><td>null</td><td>0000000000000000000</td><td>000000000000000</td><td>S</td><td>null</td><td>null</td><td>F</td><td>null</td><td>null</td><td>null</td><td>null</td><td>null</td><td>null</td><td>null</td><td>null</td><td>null</td><td>null</td><td>null</td><td>null</td><td>null</td><td>null</td><td>null</td><td>null</td><td>null</td><td>null</td><td>null</td><td>null</td><td>null</td><td>null</td><td>null</td><td>null</td><td>null</td><td>null</td><td>46G</td><td>04CG</td><td>08CG</td><td>null</td></tr><tr><td>00000028</td><td>3</td><td>2</td><td>2</td><td>000000110000000000000</td><td>S</td><td>W</td><td>Y</td><td>1</td><td>0000010000000000000</td><td>000001000000000</td><td>S</td><td>O</td><td>3</td><td>H</td><td>null</td><td>null</td><td>null</td><td>null</td><td>5</td><td>7</td><td>M</td><td>38</td><td>2</td><td>4</td><td>null</td><td>null</td><td>34</td><td>1</td><td>7</td><td>null</td><td>null</td><td>null</td><td>null</td><td>null</td><td>null</td><td>null</td><td>null</td><td>null</td><td>null</td><td>V</td><td>473</td><td>11R3</td><td>09C3</td><td>1</td></tr><tr><td>00000035</td><td>1</td><td>1</td><td>1</td><td>000000000100000000000</td><td>null</td><td>W</td><td>null</td><td>null</td><td>0000000000000000000</td><td>000000000000000</td><td>null</td><td>null</td><td>null</td><td>G</td><td>null</td><td>null</td><td>null</td><td>null</td><td>4</td><td>null</td><td>M</td><td>50</td><td>2</td><td>1</td><td>null</td><td>null</td><td>null</td><td>null</td><td>null</td><td>null</td><td>null</td><td>null</td><td>null</td><td>null</td><td>null</td><td>null</td><td>null</td><td>null</td><td>null</td><td>D</td><td>523</td><td>13C3</td><td>08C3</td><td>null</td></tr><tr><td>00000036</td><td>null</td><td>null</td><td>null</td><td>000000000000000000000</td><td>null</td><td>null</td><td>null</td><td>null</td><td>0000000000000000000</td><td>000000000000000</td><td>null</td><td>null</td><td>null</td><td>G</td><td>null</td><td>null</td><td>null</td><td>null</td><td>null</td><td>null</td><td>null</td><td>null</td><td>null</td><td>null</td><td>null</td><td>null</td><td>null</td><td>null</td><td>null</td><td>null</td><td>null</td><td>null</td><td>null</td><td>null</td><td>null</td><td>null</td><td>null</td><td>null</td><td>null</td><td>null</td><td>51G</td><td>10RG</td><td>10RG</td><td>null</td></tr></tbody></table></div>"
      ]
     },
     "metadata": {
      "application/vnd.databricks.v1+output": {
       "addedWidgets": {},
       "aggData": [],
       "aggError": "",
       "aggOverflow": false,
       "aggSchema": [],
       "aggSeriesLimitReached": false,
       "aggType": "",
       "arguments": {},
       "columnCustomDisplayInfos": {},
       "data": [
        [
         "00000015",
         2,
         2,
         1,
         "000000000000100000000",
         "S",
         "B",
         null,
         null,
         "0000000000000000000",
         "000000000000000",
         "S",
         "O",
         5,
         "E",
         null,
         null,
         null,
         null,
         6,
         "4",
         "M",
         60,
         "4",
         null,
         null,
         null,
         null,
         null,
         null,
         null,
         null,
         null,
         null,
         null,
         null,
         null,
         null,
         null,
         null,
         "D",
         "443",
         "02C3",
         "08C3",
         null
        ],
        [
         "00000024",
         2,
         2,
         1,
         "000000000100000000000",
         null,
         "W",
         null,
         null,
         "0000000000000000000",
         "000000000000000",
         "M",
         "O",
         null,
         "F",
         null,
         null,
         null,
         null,
         7,
         "7",
         "F",
         46,
         "3",
         "Z",
         null,
         null,
         null,
         null,
         null,
         null,
         null,
         null,
         null,
         null,
         null,
         null,
         null,
         null,
         null,
         "R",
         "223",
         "09O3",
         "03O3",
         null
        ],
        [
         "00000026",
         null,
         null,
         null,
         "000000000000000000000",
         null,
         null,
         null,
         null,
         "0000000000000000000",
         "000000000000000",
         "S",
         null,
         null,
         "F",
         null,
         null,
         null,
         null,
         null,
         null,
         null,
         null,
         null,
         null,
         null,
         null,
         null,
         null,
         null,
         null,
         null,
         null,
         null,
         null,
         null,
         null,
         null,
         null,
         null,
         null,
         "46G",
         "04CG",
         "08CG",
         null
        ],
        [
         "00000028",
         3,
         2,
         2,
         "000000110000000000000",
         "S",
         "W",
         "Y",
         1,
         "0000010000000000000",
         "000001000000000",
         "S",
         "O",
         3,
         "H",
         null,
         null,
         null,
         null,
         5,
         "7",
         "M",
         38,
         "2",
         "4",
         null,
         null,
         34,
         "1",
         "7",
         null,
         null,
         null,
         null,
         null,
         null,
         null,
         null,
         null,
         null,
         "V",
         "473",
         "11R3",
         "09C3",
         "1"
        ],
        [
         "00000035",
         1,
         1,
         1,
         "000000000100000000000",
         null,
         "W",
         null,
         null,
         "0000000000000000000",
         "000000000000000",
         null,
         null,
         null,
         "G",
         null,
         null,
         null,
         null,
         4,
         null,
         "M",
         50,
         "2",
         "1",
         null,
         null,
         null,
         null,
         null,
         null,
         null,
         null,
         null,
         null,
         null,
         null,
         null,
         null,
         null,
         "D",
         "523",
         "13C3",
         "08C3",
         null
        ],
        [
         "00000036",
         null,
         null,
         null,
         "000000000000000000000",
         null,
         null,
         null,
         null,
         "0000000000000000000",
         "000000000000000",
         null,
         null,
         null,
         "G",
         null,
         null,
         null,
         null,
         null,
         null,
         null,
         null,
         null,
         null,
         null,
         null,
         null,
         null,
         null,
         null,
         null,
         null,
         null,
         null,
         null,
         null,
         null,
         null,
         null,
         null,
         "51G",
         "10RG",
         "10RG",
         null
        ]
       ],
       "datasetInfos": [],
       "dbfsResultPath": null,
       "isJsonSchema": true,
       "metadata": {},
       "overflow": false,
       "plotOptions": {
        "customPlotOptions": {},
        "displayType": "table",
        "pivotAggregation": null,
        "pivotColumns": null,
        "xColumns": null,
        "yColumns": null
       },
       "removedWidgets": [],
       "schema": [
        {
         "metadata": "{}",
         "name": "household_id",
         "type": "\"string\""
        },
        {
         "metadata": "{}",
         "name": "household_size",
         "type": "\"integer\""
        },
        {
         "metadata": "{}",
         "name": "num_adults",
         "type": "\"integer\""
        },
        {
         "metadata": "{}",
         "name": "num_generations",
         "type": "\"integer\""
        },
        {
         "metadata": "{}",
         "name": "adult_range",
         "type": "\"string\""
        },
        {
         "metadata": "{}",
         "name": "marital_status",
         "type": "\"string\""
        },
        {
         "metadata": "{}",
         "name": "race_code",
         "type": "\"string\""
        },
        {
         "metadata": "{}",
         "name": "presence_children",
         "type": "\"string\""
        },
        {
         "metadata": "{}",
         "name": "num_children",
         "type": "\"integer\""
        },
        {
         "metadata": "{}",
         "name": "age_children",
         "type": "\"string\""
        },
        {
         "metadata": "{}",
         "name": "age_range_children",
         "type": "\"string\""
        },
        {
         "metadata": "{}",
         "name": "dwelling_type",
         "type": "\"string\""
        },
        {
         "metadata": "{}",
         "name": "home_owner_status",
         "type": "\"string\""
        },
        {
         "metadata": "{}",
         "name": "length_residence",
         "type": "\"integer\""
        },
        {
         "metadata": "{}",
         "name": "home_market_value",
         "type": "\"string\""
        },
        {
         "metadata": "{}",
         "name": "num_vehicles",
         "type": "\"integer\""
        },
        {
         "metadata": "{}",
         "name": "vehicle_make",
         "type": "\"string\""
        },
        {
         "metadata": "{}",
         "name": "vehicle_model",
         "type": "\"string\""
        },
        {
         "metadata": "{}",
         "name": "vehicle_year",
         "type": "\"integer\""
        },
        {
         "metadata": "{}",
         "name": "net_worth",
         "type": "\"integer\""
        },
        {
         "metadata": "{}",
         "name": "income",
         "type": "\"string\""
        },
        {
         "metadata": "{}",
         "name": "gender_individual",
         "type": "\"string\""
        },
        {
         "metadata": "{}",
         "name": "age_individual",
         "type": "\"integer\""
        },
        {
         "metadata": "{}",
         "name": "education_highest",
         "type": "\"string\""
        },
        {
         "metadata": "{}",
         "name": "occupation_highest",
         "type": "\"string\""
        },
        {
         "metadata": "{}",
         "name": "education_1",
         "type": "\"string\""
        },
        {
         "metadata": "{}",
         "name": "occupation_1",
         "type": "\"string\""
        },
        {
         "metadata": "{}",
         "name": "age_2",
         "type": "\"integer\""
        },
        {
         "metadata": "{}",
         "name": "education_2",
         "type": "\"string\""
        },
        {
         "metadata": "{}",
         "name": "occupation_2",
         "type": "\"string\""
        },
        {
         "metadata": "{}",
         "name": "age_3",
         "type": "\"integer\""
        },
        {
         "metadata": "{}",
         "name": "education_3",
         "type": "\"string\""
        },
        {
         "metadata": "{}",
         "name": "occupation_3",
         "type": "\"string\""
        },
        {
         "metadata": "{}",
         "name": "age_4",
         "type": "\"integer\""
        },
        {
         "metadata": "{}",
         "name": "education_4",
         "type": "\"string\""
        },
        {
         "metadata": "{}",
         "name": "occupation_4",
         "type": "\"string\""
        },
        {
         "metadata": "{}",
         "name": "age_5",
         "type": "\"integer\""
        },
        {
         "metadata": "{}",
         "name": "education_5",
         "type": "\"string\""
        },
        {
         "metadata": "{}",
         "name": "occupation_5",
         "type": "\"string\""
        },
        {
         "metadata": "{}",
         "name": "polit_party_regist",
         "type": "\"string\""
        },
        {
         "metadata": "{}",
         "name": "polit_party_input",
         "type": "\"string\""
        },
        {
         "metadata": "{}",
         "name": "household_clusters",
         "type": "\"string\""
        },
        {
         "metadata": "{}",
         "name": "insurance_groups",
         "type": "\"string\""
        },
        {
         "metadata": "{}",
         "name": "financial_groups",
         "type": "\"string\""
        },
        {
         "metadata": "{}",
         "name": "green_living",
         "type": "\"string\""
        }
       ],
       "type": "table"
      }
     },
     "output_type": "display_data"
    },
    {
     "name": "stdout",
     "output_type": "stream",
     "text": [
      "CPU times: user 10.5 ms, sys: 8.15 ms, total: 18.6 ms\n",
      "Wall time: 1.88 s\n"
     ]
    }
   ],
   "source": [
    "%%time\n",
    "# demographic data filename is 'demographic'\n",
    "demo_df = load_csv_file('demographic', schemas_dict['demographic'])\n",
    "\n",
    "demo_df.printSchema()\n",
    "print(f'demo_df contains {demo_df.count()} records!')\n",
    "display(demo_df.limit(6))"
   ]
  },
  {
   "cell_type": "code",
   "execution_count": 0,
   "metadata": {
    "application/vnd.databricks.v1+cell": {
     "cellMetadata": {
      "byteLimit": 2048000,
      "rowLimit": 10000
     },
     "inputWidgets": {},
     "nuid": "320246e1-369b-4f8b-a86b-024d15a4d808",
     "showTitle": false,
     "title": ""
    }
   },
   "outputs": [
    {
     "name": "stdout",
     "output_type": "stream",
     "text": [
      "root\n",
      " |-- prog_code: string (nullable = true)\n",
      " |-- title: string (nullable = true)\n",
      " |-- genre: string (nullable = true)\n",
      " |-- air_date: string (nullable = true)\n",
      " |-- air_time: string (nullable = true)\n",
      " |-- Duration: float (nullable = true)\n",
      "\n",
      "daily_prog_df contains 13194849 records!\n"
     ]
    },
    {
     "data": {
      "text/html": [
       "<style scoped>\n",
       "  .table-result-container {\n",
       "    max-height: 300px;\n",
       "    overflow: auto;\n",
       "  }\n",
       "  table, th, td {\n",
       "    border: 1px solid black;\n",
       "    border-collapse: collapse;\n",
       "  }\n",
       "  th, td {\n",
       "    padding: 5px;\n",
       "  }\n",
       "  th {\n",
       "    text-align: left;\n",
       "  }\n",
       "</style><div class='table-result-container'><table class='table-result'><thead style='background-color: white'><tr><th>prog_code</th><th>title</th><th>genre</th><th>air_date</th><th>air_time</th><th>Duration</th></tr></thead><tbody><tr><td>EP000000250035</td><td>21 Jump Street</td><td>Crime drama</td><td>20151219</td><td>050000</td><td>60.0</td></tr><tr><td>EP000000250035</td><td>21 Jump Street</td><td>Crime drama</td><td>20151219</td><td>110000</td><td>60.0</td></tr><tr><td>EP000000250063</td><td>21 Jump Street</td><td>Crime drama</td><td>20151219</td><td>180000</td><td>60.0</td></tr><tr><td>EP000000510007</td><td>A Different World</td><td>Sitcom</td><td>20151219</td><td>100000</td><td>30.0</td></tr><tr><td>EP000000510008</td><td>A Different World</td><td>Sitcom</td><td>20151219</td><td>103000</td><td>30.0</td></tr><tr><td>EP000000510159</td><td>A Different World</td><td>Sitcom</td><td>20151219</td><td>080300</td><td>29.0</td></tr></tbody></table></div>"
      ]
     },
     "metadata": {
      "application/vnd.databricks.v1+output": {
       "addedWidgets": {},
       "aggData": [],
       "aggError": "",
       "aggOverflow": false,
       "aggSchema": [],
       "aggSeriesLimitReached": false,
       "aggType": "",
       "arguments": {},
       "columnCustomDisplayInfos": {},
       "data": [
        [
         "EP000000250035",
         "21 Jump Street",
         "Crime drama",
         "20151219",
         "050000",
         60.0
        ],
        [
         "EP000000250035",
         "21 Jump Street",
         "Crime drama",
         "20151219",
         "110000",
         60.0
        ],
        [
         "EP000000250063",
         "21 Jump Street",
         "Crime drama",
         "20151219",
         "180000",
         60.0
        ],
        [
         "EP000000510007",
         "A Different World",
         "Sitcom",
         "20151219",
         "100000",
         30.0
        ],
        [
         "EP000000510008",
         "A Different World",
         "Sitcom",
         "20151219",
         "103000",
         30.0
        ],
        [
         "EP000000510159",
         "A Different World",
         "Sitcom",
         "20151219",
         "080300",
         29.0
        ]
       ],
       "datasetInfos": [],
       "dbfsResultPath": null,
       "isJsonSchema": true,
       "metadata": {},
       "overflow": false,
       "plotOptions": {
        "customPlotOptions": {},
        "displayType": "table",
        "pivotAggregation": null,
        "pivotColumns": null,
        "xColumns": null,
        "yColumns": null
       },
       "removedWidgets": [],
       "schema": [
        {
         "metadata": "{}",
         "name": "prog_code",
         "type": "\"string\""
        },
        {
         "metadata": "{}",
         "name": "title",
         "type": "\"string\""
        },
        {
         "metadata": "{}",
         "name": "genre",
         "type": "\"string\""
        },
        {
         "metadata": "{}",
         "name": "air_date",
         "type": "\"string\""
        },
        {
         "metadata": "{}",
         "name": "air_time",
         "type": "\"string\""
        },
        {
         "metadata": "{}",
         "name": "Duration",
         "type": "\"float\""
        }
       ],
       "type": "table"
      }
     },
     "output_type": "display_data"
    },
    {
     "name": "stdout",
     "output_type": "stream",
     "text": [
      "CPU times: user 3.01 ms, sys: 19.4 ms, total: 22.4 ms\n",
      "Wall time: 6.34 s\n"
     ]
    }
   ],
   "source": [
    "%%time\n",
    "# daily_program data filename is 'Daily program data'\n",
    "daily_prog_df = load_csv_file('Daily program data', schemas_dict['Daily program data'])\n",
    "\n",
    "daily_prog_df.printSchema()\n",
    "print(f'daily_prog_df contains {daily_prog_df.count()} records!')\n",
    "display(daily_prog_df.limit(6))"
   ]
  },
  {
   "cell_type": "code",
   "execution_count": 0,
   "metadata": {
    "application/vnd.databricks.v1+cell": {
     "cellMetadata": {
      "byteLimit": 2048000,
      "rowLimit": 10000
     },
     "inputWidgets": {},
     "nuid": "5d656e98-2c7c-41e4-bb8d-d63bafb9a51e",
     "showTitle": false,
     "title": ""
    }
   },
   "outputs": [
    {
     "data": {
      "text/html": [
       "<style scoped>\n",
       "  .table-result-container {\n",
       "    max-height: 300px;\n",
       "    overflow: auto;\n",
       "  }\n",
       "  table, th, td {\n",
       "    border: 1px solid black;\n",
       "    border-collapse: collapse;\n",
       "  }\n",
       "  th, td {\n",
       "    padding: 5px;\n",
       "  }\n",
       "  th {\n",
       "    text-align: left;\n",
       "  }\n",
       "</style><div class='table-result-container'><table class='table-result'><thead style='background-color: white'><tr><th>mso_code</th><th>device_id</th><th>event_date</th><th>event_time</th><th>station_num</th><th>prog_code</th></tr></thead><tbody><tr><td>01540</td><td>000000033afa</td><td>20151101</td><td>33000</td><td>67375</td><td>EP020820940009</td></tr><tr><td>01540</td><td>00000004e4b6</td><td>20151101</td><td>93000</td><td>42599</td><td>SP003189620000</td></tr><tr><td>01540</td><td>00000004eb8f</td><td>20151101</td><td>91856</td><td>42642</td><td>EP000176170270</td></tr><tr><td>01540</td><td>00000004f1d6</td><td>20151101</td><td>90206</td><td>68827</td><td>EP007961190099</td></tr><tr><td>01540</td><td>00000004f3c0</td><td>20151101</td><td>160658</td><td>10178</td><td>MV000259670000</td></tr><tr><td>01540</td><td>000000051ca0</td><td>20151101</td><td>174949</td><td>32645</td><td>EP001786120664</td></tr></tbody></table></div>"
      ]
     },
     "metadata": {
      "application/vnd.databricks.v1+output": {
       "addedWidgets": {},
       "aggData": [],
       "aggError": "",
       "aggOverflow": false,
       "aggSchema": [],
       "aggSeriesLimitReached": false,
       "aggType": "",
       "arguments": {},
       "columnCustomDisplayInfos": {},
       "data": [
        [
         "01540",
         "000000033afa",
         20151101,
         33000,
         "67375",
         "EP020820940009"
        ],
        [
         "01540",
         "00000004e4b6",
         20151101,
         93000,
         "42599",
         "SP003189620000"
        ],
        [
         "01540",
         "00000004eb8f",
         20151101,
         91856,
         "42642",
         "EP000176170270"
        ],
        [
         "01540",
         "00000004f1d6",
         20151101,
         90206,
         "68827",
         "EP007961190099"
        ],
        [
         "01540",
         "00000004f3c0",
         20151101,
         160658,
         "10178",
         "MV000259670000"
        ],
        [
         "01540",
         "000000051ca0",
         20151101,
         174949,
         "32645",
         "EP001786120664"
        ]
       ],
       "datasetInfos": [],
       "dbfsResultPath": null,
       "isJsonSchema": true,
       "metadata": {},
       "overflow": false,
       "plotOptions": {
        "customPlotOptions": {},
        "displayType": "table",
        "pivotAggregation": null,
        "pivotColumns": null,
        "xColumns": null,
        "yColumns": null
       },
       "removedWidgets": [],
       "schema": [
        {
         "metadata": "{}",
         "name": "mso_code",
         "type": "\"string\""
        },
        {
         "metadata": "{}",
         "name": "device_id",
         "type": "\"string\""
        },
        {
         "metadata": "{}",
         "name": "event_date",
         "type": "\"integer\""
        },
        {
         "metadata": "{}",
         "name": "event_time",
         "type": "\"integer\""
        },
        {
         "metadata": "{}",
         "name": "station_num",
         "type": "\"string\""
        },
        {
         "metadata": "{}",
         "name": "prog_code",
         "type": "\"string\""
        }
       ],
       "type": "table"
      }
     },
     "output_type": "display_data"
    },
    {
     "name": "stdout",
     "output_type": "stream",
     "text": [
      "viewing10m_df contains 10042340 rows!\n"
     ]
    }
   ],
   "source": [
    "# Sample of 10 Million viewing entries\n",
    "\n",
    "dataPath = f\"dbfs:/viewing_10M\"\n",
    "viewing10m_df = spark.read.format(\"csv\")\\\n",
    "    .option(\"header\",\"true\")\\\n",
    "    .option(\"delimiter\",\",\")\\\n",
    "    .schema(schemas_dict['viewing_full'])\\\n",
    "    .load(dataPath)\n",
    "\n",
    "display(viewing10m_df.limit(6))\n",
    "print(f'viewing10m_df contains {viewing10m_df.count()} rows!')"
   ]
  },
  {
   "cell_type": "code",
   "execution_count": 0,
   "metadata": {
    "application/vnd.databricks.v1+cell": {
     "cellMetadata": {
      "byteLimit": 2048000,
      "rowLimit": 10000
     },
     "inputWidgets": {},
     "nuid": "2a61fa35-2920-43fa-bb59-da7cbfece01d",
     "showTitle": false,
     "title": ""
    }
   },
   "outputs": [
    {
     "name": "stdout",
     "output_type": "stream",
     "text": [
      "root\n",
      " |-- device_id: string (nullable = true)\n",
      " |-- dma: string (nullable = true)\n",
      " |-- dma_code: long (nullable = true)\n",
      " |-- household_id: long (nullable = true)\n",
      " |-- household_type: string (nullable = true)\n",
      " |-- system_type: string (nullable = true)\n",
      " |-- zipcode: long (nullable = true)\n",
      "\n",
      "ref_df contains 1268071 records!\n"
     ]
    },
    {
     "data": {
      "text/html": [
       "<style scoped>\n",
       "  .table-result-container {\n",
       "    max-height: 300px;\n",
       "    overflow: auto;\n",
       "  }\n",
       "  table, th, td {\n",
       "    border: 1px solid black;\n",
       "    border-collapse: collapse;\n",
       "  }\n",
       "  th, td {\n",
       "    padding: 5px;\n",
       "  }\n",
       "  th {\n",
       "    text-align: left;\n",
       "  }\n",
       "</style><div class='table-result-container'><table class='table-result'><thead style='background-color: white'><tr><th>device_id</th><th>dma</th><th>dma_code</th><th>household_id</th><th>household_type</th><th>system_type</th><th>zipcode</th></tr></thead><tbody><tr><td>00000113498f</td><td>Toledo</td><td>547</td><td>1470605</td><td>FWM-ID</td><td>H</td><td>43460</td></tr><tr><td>12bf0065bad0</td><td>Toledo</td><td>547</td><td>1492575</td><td>FWM-ID</td><td>H</td><td>43460</td></tr><tr><td>000000797c1d</td><td>Toledo</td><td>547</td><td>1493317</td><td>FWM-ID</td><td>H</td><td>43460</td></tr><tr><td>000002de361c</td><td>Toledo</td><td>547</td><td>1446566</td><td>FWM-ID</td><td>H</td><td>43528</td></tr><tr><td>0000026360a2</td><td>Toledo</td><td>547</td><td>1467668</td><td>FWM-ID</td><td>H</td><td>43528</td></tr><tr><td>00000071622f</td><td>Toledo</td><td>547</td><td>1519598</td><td>FWM-ID</td><td>H</td><td>43528</td></tr></tbody></table></div>"
      ]
     },
     "metadata": {
      "application/vnd.databricks.v1+output": {
       "addedWidgets": {},
       "aggData": [],
       "aggError": "",
       "aggOverflow": false,
       "aggSchema": [],
       "aggSeriesLimitReached": false,
       "aggType": "",
       "arguments": {},
       "columnCustomDisplayInfos": {},
       "data": [
        [
         "00000113498f",
         "Toledo",
         547,
         1470605,
         "FWM-ID",
         "H",
         43460
        ],
        [
         "12bf0065bad0",
         "Toledo",
         547,
         1492575,
         "FWM-ID",
         "H",
         43460
        ],
        [
         "000000797c1d",
         "Toledo",
         547,
         1493317,
         "FWM-ID",
         "H",
         43460
        ],
        [
         "000002de361c",
         "Toledo",
         547,
         1446566,
         "FWM-ID",
         "H",
         43528
        ],
        [
         "0000026360a2",
         "Toledo",
         547,
         1467668,
         "FWM-ID",
         "H",
         43528
        ],
        [
         "00000071622f",
         "Toledo",
         547,
         1519598,
         "FWM-ID",
         "H",
         43528
        ]
       ],
       "datasetInfos": [],
       "dbfsResultPath": null,
       "isJsonSchema": true,
       "metadata": {},
       "overflow": false,
       "plotOptions": {
        "customPlotOptions": {},
        "displayType": "table",
        "pivotAggregation": null,
        "pivotColumns": null,
        "xColumns": null,
        "yColumns": null
       },
       "removedWidgets": [],
       "schema": [
        {
         "metadata": "{}",
         "name": "device_id",
         "type": "\"string\""
        },
        {
         "metadata": "{}",
         "name": "dma",
         "type": "\"string\""
        },
        {
         "metadata": "{}",
         "name": "dma_code",
         "type": "\"long\""
        },
        {
         "metadata": "{}",
         "name": "household_id",
         "type": "\"long\""
        },
        {
         "metadata": "{}",
         "name": "household_type",
         "type": "\"string\""
        },
        {
         "metadata": "{}",
         "name": "system_type",
         "type": "\"string\""
        },
        {
         "metadata": "{}",
         "name": "zipcode",
         "type": "\"long\""
        }
       ],
       "type": "table"
      }
     },
     "output_type": "display_data"
    },
    {
     "name": "stdout",
     "output_type": "stream",
     "text": [
      "CPU times: user 6.1 ms, sys: 3.87 ms, total: 9.97 ms\n",
      "Wall time: 770 ms\n"
     ]
    }
   ],
   "source": [
    "%%time\n",
    "# reference data is stored in parquet for your convinence.\n",
    "\n",
    "ref_df = spark.read.parquet('dbfs:/refxml_new_parquet')\n",
    "ref_df.printSchema()\n",
    "print(f'ref_df contains {ref_df.count()} records!')\n",
    "display(ref_df.limit(6))"
   ]
  },
  {
   "cell_type": "code",
   "execution_count": 0,
   "metadata": {
    "application/vnd.databricks.v1+cell": {
     "cellMetadata": {
      "byteLimit": 2048000,
      "rowLimit": 10000
     },
     "inputWidgets": {},
     "nuid": "c7d65056-274d-4ac7-be56-2ad9ba104990",
     "showTitle": false,
     "title": ""
    }
   },
   "outputs": [],
   "source": [
    "reference_data = ref_df\\\n",
    "    .dropDuplicates(['device_id'])\\\n",
    "        .dropna(subset=[\"device_id\", \"DMA\"])\\\n",
    "            .select('device_id', 'DMA')\n",
    "\n",
    "viewing_data = viewing10m_df\\\n",
    "        .dropna(subset=[\"device_id\", \"prog_code\"])\\\n",
    "            .select([\"device_id\", \"prog_code\"])\n",
    "\n",
    "daily_data = daily_prog_df\\\n",
    "        .dropna(subset=[\"genre\", \"prog_code\"])\\\n",
    "            .select([\"genre\", \"prog_code\"])\n",
    "\n",
    "viewing_with_dma = viewing_data\\\n",
    "    .join(reference_data, \"device_id\")\\\n",
    "        .select(\"DMA\", \"device_id\", \"prog_code\")"
   ]
  },
  {
   "cell_type": "markdown",
   "metadata": {
    "application/vnd.databricks.v1+cell": {
     "cellMetadata": {
      "byteLimit": 2048000,
      "rowLimit": 10000
     },
     "inputWidgets": {},
     "nuid": "deb1f19e-0d04-41bb-b3ae-25194c21d88d",
     "showTitle": false,
     "title": ""
    }
   },
   "source": [
    "## 2.2"
   ]
  },
  {
   "cell_type": "code",
   "execution_count": 0,
   "metadata": {
    "application/vnd.databricks.v1+cell": {
     "cellMetadata": {
      "byteLimit": 2048000,
      "rowLimit": 10000
     },
     "inputWidgets": {},
     "nuid": "dc26e57e-aac4-4763-80b9-2e0bad3bb5c0",
     "showTitle": false,
     "title": ""
    }
   },
   "outputs": [],
   "source": [
    "from pyspark.sql.functions import col, avg, max as max_, lit, when\n",
    "from pyspark.sql.window import Window\n",
    "from pyspark.sql import Row"
   ]
  },
  {
   "cell_type": "markdown",
   "metadata": {
    "application/vnd.databricks.v1+cell": {
     "cellMetadata": {
      "byteLimit": 2048000,
      "rowLimit": 10000
     },
     "inputWidgets": {},
     "nuid": "0747f62a-cfaa-43c0-a6ee-fce181d3ac27",
     "showTitle": false,
     "title": ""
    }
   },
   "source": []
  },
  {
   "cell_type": "code",
   "execution_count": 0,
   "metadata": {
    "application/vnd.databricks.v1+cell": {
     "cellMetadata": {
      "byteLimit": 2048000,
      "rowLimit": 10000
     },
     "inputWidgets": {},
     "nuid": "0359831a-bad2-462b-945d-91ef60fa9f07",
     "showTitle": false,
     "title": ""
    }
   },
   "outputs": [
    {
     "name": "stdout",
     "output_type": "stream",
     "text": [
      "9\n",
      "13.0\n"
     ]
    }
   ],
   "source": [
    "# Remove duplicates and nulls from ref_df and demo_df\n",
    "ref_df_clean = ref_df.dropDuplicates().dropna(subset=[\"household_id\", \"DMA\"]).select('household_id', 'DMA')\n",
    "demo_df_clean = demo_df.dropDuplicates().dropna(subset=[\"household_id\", \"net_worth\", \"income\"]).select('household_id', 'net_worth', 'income').withColumn(\n",
    "    \"income\",\n",
    "    when(col('income') == 'A', 10)\n",
    "    .when(col('income') == 'B', 11)\n",
    "    .when(col('income') == 'C', 12)\n",
    "    .when(col('income') == 'D', 13)\n",
    "    .otherwise(col('income').cast('int'))\n",
    ")\n",
    "\n",
    "# Ensure income is correctly typed\n",
    "demo_df_clean = demo_df_clean.withColumn(\"income\", col(\"income\").cast(\"float\"))\n",
    "\n",
    "# Join demo_df with ref_df to get the DMA for each household\n",
    "data = demo_df_clean.join(ref_df_clean, \"household_id\")\n",
    "\n",
    "# Calculate the maximum net worth and maximum income across all data\n",
    "max_net_worth_all_data = data.select(max_(\"net_worth\")).collect()[0][0]\n",
    "max_income_all_data = data.select(max_(\"income\")).collect()[0][0]\n",
    "print(max_net_worth_all_data)\n",
    "print(max_income_all_data)\n",
    "\n",
    "# Broadcast the maximum values to ensure they are used efficiently\n",
    "max_net_worth_all_data_bc = spark.sparkContext.broadcast(max_net_worth_all_data)\n",
    "max_income_all_data_bc = spark.sparkContext.broadcast(max_income_all_data)\n",
    "\n",
    "# Calculate average net worth and average income for each DMA\n",
    "dma_averages = data.groupBy(\"DMA\").agg(\n",
    "    (avg(\"net_worth\") / max_net_worth_all_data_bc.value).alias(\"avg_net_worth_in_dma\"),\n",
    "    (avg(\"income\") / max_income_all_data_bc.value).alias(\"avg_income_in_dma\")\n",
    ")\n",
    "\n",
    "# Calculate the wealth score for each DMA\n",
    "wealth_score = dma_averages.withColumn(\n",
    "    \"wealth_score\",\n",
    "    col(\"avg_net_worth_in_dma\") + col(\"avg_income_in_dma\")\n",
    ")\n",
    "\n",
    "# Get the top 10 wealthiest DMAs\n",
    "top_10_dmas = wealth_score.orderBy(col(\"wealth_score\").desc()).limit(10).select(\"DMA\", \"wealth_score\")"
   ]
  },
  {
   "cell_type": "code",
   "execution_count": 0,
   "metadata": {
    "application/vnd.databricks.v1+cell": {
     "cellMetadata": {
      "byteLimit": 2048000,
      "rowLimit": 10000
     },
     "inputWidgets": {},
     "nuid": "b592c0ac-139b-4025-99d1-85767c60871e",
     "showTitle": false,
     "title": ""
    }
   },
   "outputs": [
    {
     "data": {
      "text/html": [
       "<style scoped>\n",
       "  .table-result-container {\n",
       "    max-height: 300px;\n",
       "    overflow: auto;\n",
       "  }\n",
       "  table, th, td {\n",
       "    border: 1px solid black;\n",
       "    border-collapse: collapse;\n",
       "  }\n",
       "  th, td {\n",
       "    padding: 5px;\n",
       "  }\n",
       "  th {\n",
       "    text-align: left;\n",
       "  }\n",
       "</style><div class='table-result-container'><table class='table-result'><thead style='background-color: white'><tr><th>DMA</th><th>avg_net_worth_in_dma</th><th>avg_income_in_dma</th><th>wealth_score</th></tr></thead><tbody><tr><td>San Antonio</td><td>0.7777777777777778</td><td>0.8461538461538461</td><td>1.623931623931624</td></tr><tr><td>San Francisco-Oak-San Jose</td><td>0.8481226053639846</td><td>0.6894429708222811</td><td>1.5375655761862657</td></tr><tr><td>Baltimore</td><td>0.8534763758346783</td><td>0.6688977499287952</td><td>1.5223741257634735</td></tr><tr><td>Sacramnto-Stkton-Modesto</td><td>0.8310796254867844</td><td>0.6499397694028566</td><td>1.4810193948896409</td></tr><tr><td>Bend, OR</td><td>0.8474204908998038</td><td>0.609298516629753</td><td>1.4567190075295566</td></tr><tr><td>Houston</td><td>0.7452284201453022</td><td>0.6902711867617667</td><td>1.435499606907069</td></tr><tr><td>Austin</td><td>0.7605505942956067</td><td>0.6650564901562431</td><td>1.4256070844518498</td></tr><tr><td>Miami-Ft. Lauderdale</td><td>0.8174636303201769</td><td>0.6027442711733793</td><td>1.4202079014935562</td></tr><tr><td>Seattle-Tacoma</td><td>0.8098621616398585</td><td>0.6061468766237605</td><td>1.416009038263619</td></tr><tr><td>Detroit</td><td>0.6771547248182762</td><td>0.6786724179247544</td><td>1.3558271427430306</td></tr><tr><td>Portland, OR</td><td>0.7761349521176424</td><td>0.5738994146855668</td><td>1.350034366803209</td></tr><tr><td>Harrisburg-Lncstr-Leb-York</td><td>0.7418124171241046</td><td>0.5811566924974485</td><td>1.3229691096215532</td></tr><tr><td>Waco-Temple-Bryan</td><td>0.7250751439197107</td><td>0.5933587274715197</td><td>1.3184338713912305</td></tr><tr><td>Augusta-Aiken</td><td>0.7312605447095686</td><td>0.5746704488569998</td><td>1.3059309935665684</td></tr><tr><td>Lexington</td><td>0.7216041534223352</td><td>0.5752604039317326</td><td>1.2968645573540678</td></tr><tr><td>Philadelphia</td><td>0.7357435947142257</td><td>0.5532690630102668</td><td>1.2890126577244925</td></tr><tr><td>Cleveland-Akron (Canton)</td><td>0.7134751773049646</td><td>0.5631751227495909</td><td>1.2766503000545555</td></tr><tr><td>Little Rock-Pine Bluff</td><td>0.7178620508467726</td><td>0.5558629711503484</td><td>1.273725021997121</td></tr><tr><td>Washington, DC (Hagrstwn)</td><td>0.7237105644634776</td><td>0.5461415887170294</td><td>1.2698521531805071</td></tr><tr><td>Dallas-Ft. Worth</td><td>0.6925627698250397</td><td>0.5733197656127105</td><td>1.26588253543775</td></tr><tr><td>Odessa-Midland</td><td>0.6980432342751183</td><td>0.5675568392959698</td><td>1.265600073571088</td></tr><tr><td>Minot-Bsmrck-Dcknsn(Wlstn)</td><td>0.6955226050298008</td><td>0.5684021604213493</td><td>1.26392476545115</td></tr><tr><td>Toledo</td><td>0.6688575899843506</td><td>0.5946036598940323</td><td>1.2634612498783828</td></tr><tr><td>Sioux Falls(Mitchell)</td><td>0.6950493871236464</td><td>0.5641117183423503</td><td>1.2591611054659966</td></tr><tr><td>New York</td><td>0.6638529237539139</td><td>0.591408401195149</td><td>1.255261324949063</td></tr><tr><td>Wilkes Barre-Scranton-Hztn</td><td>0.7242602522974696</td><td>0.5300286559564232</td><td>1.2542889082538928</td></tr><tr><td>Atlanta</td><td>0.7355817140009965</td><td>0.512827699206623</td><td>1.2484094132076193</td></tr><tr><td>Eureka</td><td>0.7759767061401533</td><td>0.4706615821028897</td><td>1.2466382882430431</td></tr><tr><td>Fargo-Valley City</td><td>0.6731948565776459</td><td>0.5718557406984707</td><td>1.2450505972761166</td></tr><tr><td>Victoria</td><td>0.6671354899203</td><td>0.5771502758844531</td><td>1.244285765804753</td></tr><tr><td>Unknown</td><td>0.7010205181441206</td><td>0.5418943133753978</td><td>1.2429148315195184</td></tr><tr><td>Amarillo</td><td>0.6981726323093352</td><td>0.5324418958121451</td><td>1.2306145281214804</td></tr><tr><td>Phoenix (Prescott)</td><td>0.7298067141403866</td><td>0.4940136160888958</td><td>1.2238203302292825</td></tr><tr><td>Greenville-N.Bern-Washngtn</td><td>0.6917834560611715</td><td>0.5316447270534617</td><td>1.2234281831146332</td></tr><tr><td>Rapid City</td><td>0.7013013013013013</td><td>0.5216447216447216</td><td>1.222946022946023</td></tr><tr><td>Jonesboro</td><td>0.6883166584659122</td><td>0.5232964509657966</td><td>1.2116131094317089</td></tr><tr><td>Lubbock</td><td>0.6694037348854935</td><td>0.5342400038377588</td><td>1.2036437387232524</td></tr><tr><td>Shreveport</td><td>0.6710041352031644</td><td>0.5302308937017675</td><td>1.2012350289049318</td></tr><tr><td>Lake Charles</td><td>0.6530942273816743</td><td>0.5238739429157865</td><td>1.1769681702974608</td></tr><tr><td>Tyler-Longview(Lfkn&Ncgd)</td><td>0.6596987612612613</td><td>0.4975907397782398</td><td>1.157289501039501</td></tr><tr><td>Springfield, MO</td><td>0.6907606531262445</td><td>0.46556382685414943</td><td>1.1563244799803938</td></tr><tr><td>Abilene-Sweetwater</td><td>0.6504472159234065</td><td>0.4985754985754986</td><td>1.1490227144989051</td></tr><tr><td>Alexandria, LA</td><td>0.6543120985622529</td><td>0.49266532685582265</td><td>1.1469774254180756</td></tr><tr><td>Charleston-Huntington</td><td>0.6378380083930205</td><td>0.5077777427192124</td><td>1.145615751112233</td></tr><tr><td>San Angelo</td><td>0.6471099198371926</td><td>0.49837631655813475</td><td>1.1454862363953273</td></tr><tr><td>St. Joseph</td><td>0.6513723883654241</td><td>0.4888286641666404</td><td>1.1402010525320645</td></tr><tr><td>Oklahoma City</td><td>0.6643375472892012</td><td>0.47459665016916924</td><td>1.1389341974583704</td></tr><tr><td>Raleigh-Durham (Fayetvlle)</td><td>0.6420328339763182</td><td>0.4907098012464013</td><td>1.1327426352227195</td></tr><tr><td>Kansas City</td><td>0.6395844926729735</td><td>0.4852960061641197</td><td>1.124880498837093</td></tr><tr><td>Elmira (Corning)</td><td>0.6589428624604504</td><td>0.45309882747068675</td><td>1.1120416899311372</td></tr><tr><td>Los Angeles</td><td>0.6392914653784219</td><td>0.47268673355629875</td><td>1.1119781989347206</td></tr><tr><td>Monroe-El Dorado</td><td>0.6342834203131272</td><td>0.4761757712379952</td><td>1.1104591915511224</td></tr><tr><td>Ft. Smith-Fay-Sprngdl-Rgrs</td><td>0.6713615023474179</td><td>0.43163596966413864</td><td>1.1029974720115565</td></tr><tr><td>Sherman-Ada</td><td>0.6175972927241963</td><td>0.4791097227645451</td><td>1.0967070154887413</td></tr><tr><td>Bluefield-Beckley-Oak Hill</td><td>0.6558113540121666</td><td>0.4405032962781077</td><td>1.0963146502902743</td></tr><tr><td>Johnstown-Altoona-St Colge</td><td>0.6239360959955351</td><td>0.4721238368161767</td><td>1.0960599328117118</td></tr><tr><td>Wichita Falls & Lawton</td><td>0.5555555555555556</td><td>0.5345167652859961</td><td>1.0900723208415517</td></tr><tr><td>Erie</td><td>0.5929914529914531</td><td>0.49680473372781064</td><td>1.0897961867192638</td></tr><tr><td>Joplin-Pittsburg</td><td>0.6287629994526546</td><td>0.4599280030314513</td><td>1.0886910024841059</td></tr><tr><td>Parkersburg</td><td>0.6078326092969525</td><td>0.4744528425155164</td><td>1.082285451812469</td></tr><tr><td>Wheeling-Steubenville</td><td>0.6283199748546283</td><td>0.4537591121749538</td><td>1.082079087029582</td></tr><tr><td>Columbia-Jefferson City</td><td>0.648936170212766</td><td>0.4288052373158756</td><td>1.0777414075286416</td></tr><tr><td>Tulsa</td><td>0.6446123122340888</td><td>0.42452962510269104</td><td>1.0691419373367799</td></tr><tr><td>Greenwood-Greenville</td><td>0.6028650535692789</td><td>0.4475372947745645</td><td>1.0504023483438434</td></tr><tr><td>Pittsburgh</td><td>0.596177347607176</td><td>0.42388349295520433</td><td>1.0200608405623803</td></tr><tr><td>Roanoke-Lynchburg</td><td>0.5995970063327576</td><td>0.3970705460342766</td><td>0.9966675523670342</td></tr><tr><td>Clarksburg-Weston</td><td>0.5819344524380496</td><td>0.4139457664637521</td><td>0.9958802189018017</td></tr><tr><td>Memphis</td><td>0.5800995024875621</td><td>0.40734787600459244</td><td>0.9874473784921546</td></tr><tr><td>Buffalo</td><td>0.5650584795321637</td><td>0.4185222672064777</td><td>0.9835807467386415</td></tr></tbody></table></div>"
      ]
     },
     "metadata": {
      "application/vnd.databricks.v1+output": {
       "addedWidgets": {},
       "aggData": [],
       "aggError": "",
       "aggOverflow": false,
       "aggSchema": [],
       "aggSeriesLimitReached": false,
       "aggType": "",
       "arguments": {},
       "columnCustomDisplayInfos": {},
       "data": [
        [
         "San Antonio",
         0.7777777777777778,
         0.8461538461538461,
         1.623931623931624
        ],
        [
         "San Francisco-Oak-San Jose",
         0.8481226053639846,
         0.6894429708222811,
         1.5375655761862657
        ],
        [
         "Baltimore",
         0.8534763758346783,
         0.6688977499287952,
         1.5223741257634735
        ],
        [
         "Sacramnto-Stkton-Modesto",
         0.8310796254867844,
         0.6499397694028566,
         1.4810193948896409
        ],
        [
         "Bend, OR",
         0.8474204908998038,
         0.609298516629753,
         1.4567190075295566
        ],
        [
         "Houston",
         0.7452284201453022,
         0.6902711867617667,
         1.435499606907069
        ],
        [
         "Austin",
         0.7605505942956067,
         0.6650564901562431,
         1.4256070844518498
        ],
        [
         "Miami-Ft. Lauderdale",
         0.8174636303201769,
         0.6027442711733793,
         1.4202079014935562
        ],
        [
         "Seattle-Tacoma",
         0.8098621616398585,
         0.6061468766237605,
         1.416009038263619
        ],
        [
         "Detroit",
         0.6771547248182762,
         0.6786724179247544,
         1.3558271427430306
        ],
        [
         "Portland, OR",
         0.7761349521176424,
         0.5738994146855668,
         1.350034366803209
        ],
        [
         "Harrisburg-Lncstr-Leb-York",
         0.7418124171241046,
         0.5811566924974485,
         1.3229691096215532
        ],
        [
         "Waco-Temple-Bryan",
         0.7250751439197107,
         0.5933587274715197,
         1.3184338713912305
        ],
        [
         "Augusta-Aiken",
         0.7312605447095686,
         0.5746704488569998,
         1.3059309935665684
        ],
        [
         "Lexington",
         0.7216041534223352,
         0.5752604039317326,
         1.2968645573540678
        ],
        [
         "Philadelphia",
         0.7357435947142257,
         0.5532690630102668,
         1.2890126577244925
        ],
        [
         "Cleveland-Akron (Canton)",
         0.7134751773049646,
         0.5631751227495909,
         1.2766503000545555
        ],
        [
         "Little Rock-Pine Bluff",
         0.7178620508467726,
         0.5558629711503484,
         1.273725021997121
        ],
        [
         "Washington, DC (Hagrstwn)",
         0.7237105644634776,
         0.5461415887170294,
         1.2698521531805071
        ],
        [
         "Dallas-Ft. Worth",
         0.6925627698250397,
         0.5733197656127105,
         1.26588253543775
        ],
        [
         "Odessa-Midland",
         0.6980432342751183,
         0.5675568392959698,
         1.265600073571088
        ],
        [
         "Minot-Bsmrck-Dcknsn(Wlstn)",
         0.6955226050298008,
         0.5684021604213493,
         1.26392476545115
        ],
        [
         "Toledo",
         0.6688575899843506,
         0.5946036598940323,
         1.2634612498783828
        ],
        [
         "Sioux Falls(Mitchell)",
         0.6950493871236464,
         0.5641117183423503,
         1.2591611054659966
        ],
        [
         "New York",
         0.6638529237539139,
         0.591408401195149,
         1.255261324949063
        ],
        [
         "Wilkes Barre-Scranton-Hztn",
         0.7242602522974696,
         0.5300286559564232,
         1.2542889082538928
        ],
        [
         "Atlanta",
         0.7355817140009965,
         0.512827699206623,
         1.2484094132076193
        ],
        [
         "Eureka",
         0.7759767061401533,
         0.4706615821028897,
         1.2466382882430431
        ],
        [
         "Fargo-Valley City",
         0.6731948565776459,
         0.5718557406984707,
         1.2450505972761166
        ],
        [
         "Victoria",
         0.6671354899203,
         0.5771502758844531,
         1.244285765804753
        ],
        [
         "Unknown",
         0.7010205181441206,
         0.5418943133753978,
         1.2429148315195184
        ],
        [
         "Amarillo",
         0.6981726323093352,
         0.5324418958121451,
         1.2306145281214804
        ],
        [
         "Phoenix (Prescott)",
         0.7298067141403866,
         0.4940136160888958,
         1.2238203302292825
        ],
        [
         "Greenville-N.Bern-Washngtn",
         0.6917834560611715,
         0.5316447270534617,
         1.2234281831146332
        ],
        [
         "Rapid City",
         0.7013013013013013,
         0.5216447216447216,
         1.222946022946023
        ],
        [
         "Jonesboro",
         0.6883166584659122,
         0.5232964509657966,
         1.2116131094317089
        ],
        [
         "Lubbock",
         0.6694037348854935,
         0.5342400038377588,
         1.2036437387232524
        ],
        [
         "Shreveport",
         0.6710041352031644,
         0.5302308937017675,
         1.2012350289049318
        ],
        [
         "Lake Charles",
         0.6530942273816743,
         0.5238739429157865,
         1.1769681702974608
        ],
        [
         "Tyler-Longview(Lfkn&Ncgd)",
         0.6596987612612613,
         0.4975907397782398,
         1.157289501039501
        ],
        [
         "Springfield, MO",
         0.6907606531262445,
         0.46556382685414943,
         1.1563244799803938
        ],
        [
         "Abilene-Sweetwater",
         0.6504472159234065,
         0.4985754985754986,
         1.1490227144989051
        ],
        [
         "Alexandria, LA",
         0.6543120985622529,
         0.49266532685582265,
         1.1469774254180756
        ],
        [
         "Charleston-Huntington",
         0.6378380083930205,
         0.5077777427192124,
         1.145615751112233
        ],
        [
         "San Angelo",
         0.6471099198371926,
         0.49837631655813475,
         1.1454862363953273
        ],
        [
         "St. Joseph",
         0.6513723883654241,
         0.4888286641666404,
         1.1402010525320645
        ],
        [
         "Oklahoma City",
         0.6643375472892012,
         0.47459665016916924,
         1.1389341974583704
        ],
        [
         "Raleigh-Durham (Fayetvlle)",
         0.6420328339763182,
         0.4907098012464013,
         1.1327426352227195
        ],
        [
         "Kansas City",
         0.6395844926729735,
         0.4852960061641197,
         1.124880498837093
        ],
        [
         "Elmira (Corning)",
         0.6589428624604504,
         0.45309882747068675,
         1.1120416899311372
        ],
        [
         "Los Angeles",
         0.6392914653784219,
         0.47268673355629875,
         1.1119781989347206
        ],
        [
         "Monroe-El Dorado",
         0.6342834203131272,
         0.4761757712379952,
         1.1104591915511224
        ],
        [
         "Ft. Smith-Fay-Sprngdl-Rgrs",
         0.6713615023474179,
         0.43163596966413864,
         1.1029974720115565
        ],
        [
         "Sherman-Ada",
         0.6175972927241963,
         0.4791097227645451,
         1.0967070154887413
        ],
        [
         "Bluefield-Beckley-Oak Hill",
         0.6558113540121666,
         0.4405032962781077,
         1.0963146502902743
        ],
        [
         "Johnstown-Altoona-St Colge",
         0.6239360959955351,
         0.4721238368161767,
         1.0960599328117118
        ],
        [
         "Wichita Falls & Lawton",
         0.5555555555555556,
         0.5345167652859961,
         1.0900723208415517
        ],
        [
         "Erie",
         0.5929914529914531,
         0.49680473372781064,
         1.0897961867192638
        ],
        [
         "Joplin-Pittsburg",
         0.6287629994526546,
         0.4599280030314513,
         1.0886910024841059
        ],
        [
         "Parkersburg",
         0.6078326092969525,
         0.4744528425155164,
         1.082285451812469
        ],
        [
         "Wheeling-Steubenville",
         0.6283199748546283,
         0.4537591121749538,
         1.082079087029582
        ],
        [
         "Columbia-Jefferson City",
         0.648936170212766,
         0.4288052373158756,
         1.0777414075286416
        ],
        [
         "Tulsa",
         0.6446123122340888,
         0.42452962510269104,
         1.0691419373367799
        ],
        [
         "Greenwood-Greenville",
         0.6028650535692789,
         0.4475372947745645,
         1.0504023483438434
        ],
        [
         "Pittsburgh",
         0.596177347607176,
         0.42388349295520433,
         1.0200608405623803
        ],
        [
         "Roanoke-Lynchburg",
         0.5995970063327576,
         0.3970705460342766,
         0.9966675523670342
        ],
        [
         "Clarksburg-Weston",
         0.5819344524380496,
         0.4139457664637521,
         0.9958802189018017
        ],
        [
         "Memphis",
         0.5800995024875621,
         0.40734787600459244,
         0.9874473784921546
        ],
        [
         "Buffalo",
         0.5650584795321637,
         0.4185222672064777,
         0.9835807467386415
        ]
       ],
       "datasetInfos": [],
       "dbfsResultPath": null,
       "isJsonSchema": true,
       "metadata": {},
       "overflow": false,
       "plotOptions": {
        "customPlotOptions": {},
        "displayType": "table",
        "pivotAggregation": null,
        "pivotColumns": null,
        "xColumns": null,
        "yColumns": null
       },
       "removedWidgets": [],
       "schema": [
        {
         "metadata": "{}",
         "name": "DMA",
         "type": "\"string\""
        },
        {
         "metadata": "{}",
         "name": "avg_net_worth_in_dma",
         "type": "\"double\""
        },
        {
         "metadata": "{}",
         "name": "avg_income_in_dma",
         "type": "\"double\""
        },
        {
         "metadata": "{}",
         "name": "wealth_score",
         "type": "\"double\""
        }
       ],
       "type": "table"
      }
     },
     "output_type": "display_data"
    }
   ],
   "source": [
    "wealth_score.orderBy(col(\"wealth_score\").desc()).display()"
   ]
  },
  {
   "cell_type": "code",
   "execution_count": 0,
   "metadata": {
    "application/vnd.databricks.v1+cell": {
     "cellMetadata": {
      "byteLimit": 2048000,
      "rowLimit": 10000
     },
     "inputWidgets": {},
     "nuid": "616f18d6-31a9-44bc-81d0-35df8f5e714e",
     "showTitle": false,
     "title": ""
    }
   },
   "outputs": [
    {
     "data": {
      "text/html": [
       "<style scoped>\n",
       "  .table-result-container {\n",
       "    max-height: 300px;\n",
       "    overflow: auto;\n",
       "  }\n",
       "  table, th, td {\n",
       "    border: 1px solid black;\n",
       "    border-collapse: collapse;\n",
       "  }\n",
       "  th, td {\n",
       "    padding: 5px;\n",
       "  }\n",
       "  th {\n",
       "    text-align: left;\n",
       "  }\n",
       "</style><div class='table-result-container'><table class='table-result'><thead style='background-color: white'><tr><th>DMA</th><th>wealth_score</th></tr></thead><tbody><tr><td>San Antonio</td><td>1.623931623931624</td></tr><tr><td>San Francisco-Oak-San Jose</td><td>1.5375655761862657</td></tr><tr><td>Baltimore</td><td>1.5223741257634735</td></tr><tr><td>Sacramnto-Stkton-Modesto</td><td>1.4810193948896409</td></tr><tr><td>Bend, OR</td><td>1.4567190075295566</td></tr><tr><td>Houston</td><td>1.435499606907069</td></tr><tr><td>Austin</td><td>1.4256070844518498</td></tr><tr><td>Miami-Ft. Lauderdale</td><td>1.4202079014935562</td></tr><tr><td>Seattle-Tacoma</td><td>1.416009038263619</td></tr><tr><td>Detroit</td><td>1.3558271427430306</td></tr></tbody></table></div>"
      ]
     },
     "metadata": {
      "application/vnd.databricks.v1+output": {
       "addedWidgets": {},
       "aggData": [],
       "aggError": "",
       "aggOverflow": false,
       "aggSchema": [],
       "aggSeriesLimitReached": false,
       "aggType": "",
       "arguments": {},
       "columnCustomDisplayInfos": {},
       "data": [
        [
         "San Antonio",
         1.623931623931624
        ],
        [
         "San Francisco-Oak-San Jose",
         1.5375655761862657
        ],
        [
         "Baltimore",
         1.5223741257634735
        ],
        [
         "Sacramnto-Stkton-Modesto",
         1.4810193948896409
        ],
        [
         "Bend, OR",
         1.4567190075295566
        ],
        [
         "Houston",
         1.435499606907069
        ],
        [
         "Austin",
         1.4256070844518498
        ],
        [
         "Miami-Ft. Lauderdale",
         1.4202079014935562
        ],
        [
         "Seattle-Tacoma",
         1.416009038263619
        ],
        [
         "Detroit",
         1.3558271427430306
        ]
       ],
       "datasetInfos": [],
       "dbfsResultPath": null,
       "isJsonSchema": true,
       "metadata": {},
       "overflow": false,
       "plotOptions": {
        "customPlotOptions": {},
        "displayType": "table",
        "pivotAggregation": null,
        "pivotColumns": null,
        "xColumns": null,
        "yColumns": null
       },
       "removedWidgets": [],
       "schema": [
        {
         "metadata": "{}",
         "name": "DMA",
         "type": "\"string\""
        },
        {
         "metadata": "{}",
         "name": "wealth_score",
         "type": "\"double\""
        }
       ],
       "type": "table"
      }
     },
     "output_type": "display_data"
    }
   ],
   "source": [
    "top_10_dmas.display()"
   ]
  },
  {
   "cell_type": "code",
   "execution_count": 0,
   "metadata": {
    "application/vnd.databricks.v1+cell": {
     "cellMetadata": {
      "byteLimit": 2048000,
      "rowLimit": 10000
     },
     "inputWidgets": {},
     "nuid": "73989f80-f4a9-4736-a246-c505114e9f24",
     "showTitle": false,
     "title": ""
    }
   },
   "outputs": [],
   "source": [
    "# Clean DataFrames and select relevant attributes (excluding event_date and event_time)\n",
    "all_viewings = (viewing10m_df\n",
    "                .dropDuplicates()\n",
    "                .dropna(subset=[\"device_id\", \"prog_code\"])\n",
    "                .select(\"device_id\", \"prog_code\"))\n",
    "\n",
    "top_10_dma_with_genres = (top_10_dmas\n",
    "                          .join(reference_data, \"DMA\")\n",
    "                          .join(all_viewings, \"device_id\")\n",
    "                          .join(daily_data, \"prog_code\")\n",
    "                          .dropDuplicates()\n",
    "                          .dropna(subset=[\"DMA\", \"genre\"])\n",
    "                          .select(\"DMA\", \"genre\"))\n",
    "\n",
    "# Explode genres into individual rows\n",
    "top_10_dma_with_splitted_genres = (top_10_dma_with_genres\n",
    "                                   .withColumn('genre', f.explode(f.split(f.col('genre'), ',')))\n",
    "                                  )"
   ]
  },
  {
   "cell_type": "code",
   "execution_count": 0,
   "metadata": {
    "application/vnd.databricks.v1+cell": {
     "cellMetadata": {
      "byteLimit": 2048000,
      "rowLimit": 10000
     },
     "inputWidgets": {},
     "nuid": "760273e0-df80-4830-b576-007fcd23db07",
     "showTitle": false,
     "title": ""
    }
   },
   "outputs": [],
   "source": [
    "dma_results, used_genres = [], []\n",
    "check = top_10_dma_with_splitted_genres.select(\"*\")\n",
    "#for current_dma in top_dmas_list:\n",
    "for dma_row in top_10_dmas.rdd.toLocalIterator():\n",
    "    dma = dma_row[\"DMA\"]\n",
    "    current_dma_genres = check\\\n",
    "        .filter(\\\n",
    "                (check.DMA == dma)\\\n",
    "                & \\\n",
    "                (~check.genre.isin(used_genres)))\\\n",
    "                .groupBy(\"genre\")\\\n",
    "                    .count()\\\n",
    "                        .orderBy(\"count\",ascending=False)\\\n",
    "                            .select(\"genre\")\\\n",
    "                                .limit(11)\n",
    "\n",
    "    current_dma_genres_list = current_dma_genres\\\n",
    "        .rdd.flatMap(lambda x: x)\\\n",
    "            .collect()\n",
    "\n",
    "    for used_genre in current_dma_genres_list:\n",
    "        used_genres.append(used_genre)\n",
    "\n",
    "    if len(used_genres) > 110:\n",
    "        break\n",
    "\n",
    "    dma_results.append((dma, current_dma_genres))\n",
    "    "
   ]
  },
  {
   "cell_type": "code",
   "execution_count": 0,
   "metadata": {
    "application/vnd.databricks.v1+cell": {
     "cellMetadata": {
      "byteLimit": 2048000,
      "rowLimit": 10000
     },
     "inputWidgets": {},
     "nuid": "1d44524b-d429-468d-b154-e77beff3f7bd",
     "showTitle": false,
     "title": ""
    }
   },
   "outputs": [
    {
     "name": "stdout",
     "output_type": "stream",
     "text": [
      "showing DMA - San Antonio\n",
      "+-----------+------------+----------------------+\n",
      "|   DMA NAME|WEALTH SCORE|ORDERED LIST OF GENRES|\n",
      "+-----------+------------+----------------------+\n",
      "|San Antonio|   1.6239316|                  News|\n",
      "|San Antonio|   1.6239316|                Sitcom|\n",
      "|San Antonio|   1.6239316|               Weather|\n",
      "|San Antonio|   1.6239316|                  Talk|\n",
      "|San Antonio|   1.6239316|               Reality|\n",
      "|San Antonio|   1.6239316|                  Auto|\n",
      "|San Antonio|   1.6239316|               Cooking|\n",
      "|San Antonio|   1.6239316|                 Drama|\n",
      "|San Antonio|   1.6239316|               Western|\n",
      "|San Antonio|   1.6239316|                Comedy|\n",
      "|San Antonio|   1.6239316|          Newsmagazine|\n",
      "+-----------+------------+----------------------+\n",
      "\n",
      "showing DMA - Bend, OR\n",
      "+--------+------------+----------------------+\n",
      "|DMA NAME|WEALTH SCORE|ORDERED LIST OF GENRES|\n",
      "+--------+------------+----------------------+\n",
      "|Bend, OR|    1.456719|              Outdoors|\n",
      "|Bend, OR|    1.456719|        Bus./financial|\n",
      "|Bend, OR|    1.456719|               History|\n",
      "|Bend, OR|    1.456719|               Science|\n",
      "|Bend, OR|    1.456719|                How-to|\n",
      "|Bend, OR|    1.456719|               Animals|\n",
      "|Bend, OR|    1.456719|        Playoff sports|\n",
      "|Bend, OR|    1.456719|               Medical|\n",
      "|Bend, OR|    1.456719|                  Golf|\n",
      "|Bend, OR|    1.456719|                Nature|\n",
      "|Bend, OR|    1.456719|            Paranormal|\n",
      "+--------+------------+----------------------+\n",
      "\n",
      "showing DMA - Seattle-Tacoma\n",
      "+--------------+------------+----------------------+\n",
      "|      DMA NAME|WEALTH SCORE|ORDERED LIST OF GENRES|\n",
      "+--------------+------------+----------------------+\n",
      "|Seattle-Tacoma|   1.4160091|               Auction|\n",
      "|Seattle-Tacoma|   1.4160091|               Fishing|\n",
      "|Seattle-Tacoma|   1.4160091|                Hockey|\n",
      "|Seattle-Tacoma|   1.4160091|         Action sports|\n",
      "|Seattle-Tacoma|   1.4160091|             Parenting|\n",
      "|Seattle-Tacoma|   1.4160091|                 Poker|\n",
      "|Seattle-Tacoma|   1.4160091|              Aviation|\n",
      "|Seattle-Tacoma|   1.4160091|            Card games|\n",
      "|Seattle-Tacoma|   1.4160091|      Self improvement|\n",
      "|Seattle-Tacoma|   1.4160091|                 Anime|\n",
      "|Seattle-Tacoma|   1.4160091|           Environment|\n",
      "+--------------+------------+----------------------+\n",
      "\n"
     ]
    }
   ],
   "source": [
    "# Define the schema explicitly\n",
    "schema = StructType([\n",
    "    StructField(\"DMA NAME\", StringType(), nullable=False),\n",
    "    StructField(\"WEALTH SCORE\", FloatType(), nullable=True),\n",
    "    StructField(\"ORDERED LIST OF GENRES\", StringType(), nullable=False)\n",
    "])\n",
    "\n",
    "for i, (dma, genres) in enumerate(dma_results):\n",
    "    # Get the wealth score for the current DMA\n",
    "    wealth_score_row = top_10_dmas.filter(col(\"DMA\") == dma).select(\"wealth_score\").collect()\n",
    "    if wealth_score_row:\n",
    "        wealth_score = wealth_score_row[0][\"wealth_score\"]\n",
    "    else:\n",
    "        wealth_score = None  # Handle case where DMA is not found\n",
    "\n",
    "    # Check if genres is empty and handle accordingly\n",
    "    if not genres:\n",
    "        print(f\"No genres found for DMA: {dma}\")\n",
    "        continue\n",
    "\n",
    "    # Create a list of Rows\n",
    "    rows = [Row(dma, wealth_score, str(genre[\"genre\"])) for genre in genres.collect()]\n",
    "\n",
    "\n",
    "    # Create a DataFrame from the list of Rows\n",
    "    temp_df = spark.createDataFrame(rows, schema=schema)\n",
    "\n",
    "    file_name = f\"project1_part22_{dma.replace(' ', '_').lower()}_337604821_326922390.csv\"\n",
    "    temp_df.write.format(\"csv\").option(\"header\", \"true\").mode(\"overwrite\").save(file_name)\n",
    "\n",
    "    # Displaying the DF for the 1, 5, 9th most popular DMA by wealth score\n",
    "    if i in [0, 4, 8]:\n",
    "        print(f\"showing DMA - {dma}\")\n",
    "        temp_df.show()\n"
   ]
  },
  {
   "cell_type": "code",
   "execution_count": 0,
   "metadata": {
    "application/vnd.databricks.v1+cell": {
     "cellMetadata": {
      "byteLimit": 2048000,
      "rowLimit": 10000
     },
     "inputWidgets": {},
     "nuid": "3d04588e-9776-4645-9b64-943b41029555",
     "showTitle": false,
     "title": ""
    }
   },
   "outputs": [],
   "source": []
  }
 ],
 "metadata": {
  "application/vnd.databricks.v1+notebook": {
   "dashboards": [],
   "environmentMetadata": null,
   "language": "python",
   "notebookMetadata": {
    "pythonIndentUnit": 4
   },
   "notebookName": "DMA_pop_2.1",
   "widgets": {}
  }
 },
 "nbformat": 4,
 "nbformat_minor": 0
}
